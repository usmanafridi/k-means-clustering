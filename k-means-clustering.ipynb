{
 "cells": [
  {
   "cell_type": "code",
   "execution_count": 1,
   "id": "0da116dd",
   "metadata": {},
   "outputs": [],
   "source": [
    "#Importing necessary librarbies for data analysis and visualization.\n",
    "\n",
    "import pandas as pd\n",
    "import matplotlib.pyplot as plt\n",
    "plt.style.use('fivethirtyeight')\n",
    "import numpy as np\n",
    "import sklearn.cluster as cluster\n",
    "import scipy.optimize as opt\n",
    "import seaborn as sns\n",
    "%matplotlib inline"
   ]
  },
  {
   "cell_type": "code",
   "execution_count": 2,
   "id": "9447ea5d",
   "metadata": {},
   "outputs": [],
   "source": [
    "#Reading csv files and making the third row as header \n",
    "gdp= pd.read_csv('GDP.csv', header= 2)\n",
    "arable= pd.read_csv('arable.csv', header= 2)\n",
    "mortality= pd.read_csv('mortality.csv', header= 2)\n",
    "co2= pd.read_csv('co2per.csv', header= 2)"
   ]
  },
  {
   "cell_type": "code",
   "execution_count": 3,
   "id": "f6cd1e26",
   "metadata": {},
   "outputs": [
    {
     "data": {
      "text/html": [
       "<div>\n",
       "<style scoped>\n",
       "    .dataframe tbody tr th:only-of-type {\n",
       "        vertical-align: middle;\n",
       "    }\n",
       "\n",
       "    .dataframe tbody tr th {\n",
       "        vertical-align: top;\n",
       "    }\n",
       "\n",
       "    .dataframe thead th {\n",
       "        text-align: right;\n",
       "    }\n",
       "</style>\n",
       "<table border=\"1\" class=\"dataframe\">\n",
       "  <thead>\n",
       "    <tr style=\"text-align: right;\">\n",
       "      <th></th>\n",
       "      <th>Country Name</th>\n",
       "      <th>Country Code</th>\n",
       "      <th>Indicator Name</th>\n",
       "      <th>Indicator Code</th>\n",
       "      <th>1960</th>\n",
       "      <th>1961</th>\n",
       "      <th>1962</th>\n",
       "      <th>1963</th>\n",
       "      <th>1964</th>\n",
       "      <th>1965</th>\n",
       "      <th>...</th>\n",
       "      <th>2012</th>\n",
       "      <th>2013</th>\n",
       "      <th>2014</th>\n",
       "      <th>2015</th>\n",
       "      <th>2016</th>\n",
       "      <th>2017</th>\n",
       "      <th>2018</th>\n",
       "      <th>2019</th>\n",
       "      <th>2020</th>\n",
       "      <th>Unnamed: 65</th>\n",
       "    </tr>\n",
       "  </thead>\n",
       "  <tbody>\n",
       "    <tr>\n",
       "      <th>0</th>\n",
       "      <td>Aruba</td>\n",
       "      <td>ABW</td>\n",
       "      <td>GDP per capita (current US$)</td>\n",
       "      <td>NY.GDP.PCAP.CD</td>\n",
       "      <td>NaN</td>\n",
       "      <td>NaN</td>\n",
       "      <td>NaN</td>\n",
       "      <td>NaN</td>\n",
       "      <td>NaN</td>\n",
       "      <td>NaN</td>\n",
       "      <td>...</td>\n",
       "      <td>24712.493263</td>\n",
       "      <td>26441.619936</td>\n",
       "      <td>26893.011506</td>\n",
       "      <td>28396.908423</td>\n",
       "      <td>28452.170615</td>\n",
       "      <td>29350.805019</td>\n",
       "      <td>30253.279358</td>\n",
       "      <td>NaN</td>\n",
       "      <td>NaN</td>\n",
       "      <td>NaN</td>\n",
       "    </tr>\n",
       "    <tr>\n",
       "      <th>1</th>\n",
       "      <td>Africa Eastern and Southern</td>\n",
       "      <td>AFE</td>\n",
       "      <td>GDP per capita (current US$)</td>\n",
       "      <td>NY.GDP.PCAP.CD</td>\n",
       "      <td>147.507808</td>\n",
       "      <td>146.910907</td>\n",
       "      <td>156.078705</td>\n",
       "      <td>182.115000</td>\n",
       "      <td>162.232750</td>\n",
       "      <td>180.087426</td>\n",
       "      <td>...</td>\n",
       "      <td>1734.938417</td>\n",
       "      <td>1712.686908</td>\n",
       "      <td>1701.765354</td>\n",
       "      <td>1546.877709</td>\n",
       "      <td>1429.596045</td>\n",
       "      <td>1571.307053</td>\n",
       "      <td>1573.221585</td>\n",
       "      <td>1527.734558</td>\n",
       "      <td>1356.699267</td>\n",
       "      <td>NaN</td>\n",
       "    </tr>\n",
       "    <tr>\n",
       "      <th>2</th>\n",
       "      <td>Afghanistan</td>\n",
       "      <td>AFG</td>\n",
       "      <td>GDP per capita (current US$)</td>\n",
       "      <td>NY.GDP.PCAP.CD</td>\n",
       "      <td>59.773234</td>\n",
       "      <td>59.860900</td>\n",
       "      <td>58.458009</td>\n",
       "      <td>78.706429</td>\n",
       "      <td>82.095307</td>\n",
       "      <td>101.108325</td>\n",
       "      <td>...</td>\n",
       "      <td>638.845852</td>\n",
       "      <td>624.315455</td>\n",
       "      <td>614.223342</td>\n",
       "      <td>556.007221</td>\n",
       "      <td>512.012778</td>\n",
       "      <td>516.679862</td>\n",
       "      <td>485.668419</td>\n",
       "      <td>494.179350</td>\n",
       "      <td>516.747871</td>\n",
       "      <td>NaN</td>\n",
       "    </tr>\n",
       "    <tr>\n",
       "      <th>3</th>\n",
       "      <td>Africa Western and Central</td>\n",
       "      <td>AFW</td>\n",
       "      <td>GDP per capita (current US$)</td>\n",
       "      <td>NY.GDP.PCAP.CD</td>\n",
       "      <td>107.932233</td>\n",
       "      <td>113.081647</td>\n",
       "      <td>118.831107</td>\n",
       "      <td>123.442888</td>\n",
       "      <td>131.854402</td>\n",
       "      <td>138.526332</td>\n",
       "      <td>...</td>\n",
       "      <td>1965.118485</td>\n",
       "      <td>2157.481149</td>\n",
       "      <td>2178.368454</td>\n",
       "      <td>1894.310195</td>\n",
       "      <td>1673.835527</td>\n",
       "      <td>1613.473553</td>\n",
       "      <td>1704.139603</td>\n",
       "      <td>1777.918672</td>\n",
       "      <td>1710.073363</td>\n",
       "      <td>NaN</td>\n",
       "    </tr>\n",
       "    <tr>\n",
       "      <th>4</th>\n",
       "      <td>Angola</td>\n",
       "      <td>AGO</td>\n",
       "      <td>GDP per capita (current US$)</td>\n",
       "      <td>NY.GDP.PCAP.CD</td>\n",
       "      <td>NaN</td>\n",
       "      <td>NaN</td>\n",
       "      <td>NaN</td>\n",
       "      <td>NaN</td>\n",
       "      <td>NaN</td>\n",
       "      <td>NaN</td>\n",
       "      <td>...</td>\n",
       "      <td>5100.097027</td>\n",
       "      <td>5254.881126</td>\n",
       "      <td>5408.411700</td>\n",
       "      <td>4166.979833</td>\n",
       "      <td>3506.073128</td>\n",
       "      <td>4095.810057</td>\n",
       "      <td>3289.643995</td>\n",
       "      <td>2809.626088</td>\n",
       "      <td>1776.166868</td>\n",
       "      <td>NaN</td>\n",
       "    </tr>\n",
       "  </tbody>\n",
       "</table>\n",
       "<p>5 rows × 66 columns</p>\n",
       "</div>"
      ],
      "text/plain": [
       "                  Country Name Country Code                Indicator Name  \\\n",
       "0                        Aruba          ABW  GDP per capita (current US$)   \n",
       "1  Africa Eastern and Southern          AFE  GDP per capita (current US$)   \n",
       "2                  Afghanistan          AFG  GDP per capita (current US$)   \n",
       "3   Africa Western and Central          AFW  GDP per capita (current US$)   \n",
       "4                       Angola          AGO  GDP per capita (current US$)   \n",
       "\n",
       "   Indicator Code        1960        1961        1962        1963        1964  \\\n",
       "0  NY.GDP.PCAP.CD         NaN         NaN         NaN         NaN         NaN   \n",
       "1  NY.GDP.PCAP.CD  147.507808  146.910907  156.078705  182.115000  162.232750   \n",
       "2  NY.GDP.PCAP.CD   59.773234   59.860900   58.458009   78.706429   82.095307   \n",
       "3  NY.GDP.PCAP.CD  107.932233  113.081647  118.831107  123.442888  131.854402   \n",
       "4  NY.GDP.PCAP.CD         NaN         NaN         NaN         NaN         NaN   \n",
       "\n",
       "         1965  ...          2012          2013          2014          2015  \\\n",
       "0         NaN  ...  24712.493263  26441.619936  26893.011506  28396.908423   \n",
       "1  180.087426  ...   1734.938417   1712.686908   1701.765354   1546.877709   \n",
       "2  101.108325  ...    638.845852    624.315455    614.223342    556.007221   \n",
       "3  138.526332  ...   1965.118485   2157.481149   2178.368454   1894.310195   \n",
       "4         NaN  ...   5100.097027   5254.881126   5408.411700   4166.979833   \n",
       "\n",
       "           2016          2017          2018         2019         2020  \\\n",
       "0  28452.170615  29350.805019  30253.279358          NaN          NaN   \n",
       "1   1429.596045   1571.307053   1573.221585  1527.734558  1356.699267   \n",
       "2    512.012778    516.679862    485.668419   494.179350   516.747871   \n",
       "3   1673.835527   1613.473553   1704.139603  1777.918672  1710.073363   \n",
       "4   3506.073128   4095.810057   3289.643995  2809.626088  1776.166868   \n",
       "\n",
       "   Unnamed: 65  \n",
       "0          NaN  \n",
       "1          NaN  \n",
       "2          NaN  \n",
       "3          NaN  \n",
       "4          NaN  \n",
       "\n",
       "[5 rows x 66 columns]"
      ]
     },
     "execution_count": 3,
     "metadata": {},
     "output_type": "execute_result"
    }
   ],
   "source": [
    "#Exploring the form of gdp dataframe\n",
    "gdp.head()"
   ]
  },
  {
   "cell_type": "code",
   "execution_count": 4,
   "id": "77af840c",
   "metadata": {},
   "outputs": [],
   "source": [
    "#Defining a function to remove unnecessary columns\n",
    "\n",
    "def remove_column(df, col1, col2, col3):\n",
    "    return df.drop([col1, col2, col3], axis = 1)"
   ]
  },
  {
   "cell_type": "code",
   "execution_count": 5,
   "id": "074ed176",
   "metadata": {},
   "outputs": [],
   "source": [
    "gdp = remove_column(gdp, 'Indicator Name', 'Indicator Code', 'Country Code')\n",
    "arable = remove_column(arable, 'Indicator Name', 'Indicator Code', 'Country Code')\n",
    "mortality = remove_column(mortality, 'Indicator Name', 'Indicator Code', 'Country Code')\n",
    "co2 = remove_column(co2, 'Indicator Name', 'Indicator Code', 'Country Code')"
   ]
  },
  {
   "cell_type": "code",
   "execution_count": 6,
   "id": "5dfde94f",
   "metadata": {},
   "outputs": [],
   "source": [
    "# del arable['Indicator Name']\n",
    "# del arable['Indicator Code']\n",
    "# del arable['Country Code']"
   ]
  },
  {
   "cell_type": "code",
   "execution_count": 7,
   "id": "282f8575",
   "metadata": {},
   "outputs": [],
   "source": [
    "# del mortality['Indicator Name']\n",
    "# del mortality['Indicator Code']\n",
    "# del mortality['Country Code']"
   ]
  },
  {
   "cell_type": "code",
   "execution_count": 8,
   "id": "ca8794ce",
   "metadata": {},
   "outputs": [],
   "source": [
    "# del co2['Indicator Name']\n",
    "# del co2['Indicator Code']\n",
    "# del co2['Country Code']"
   ]
  },
  {
   "cell_type": "code",
   "execution_count": 9,
   "id": "02b190ba",
   "metadata": {},
   "outputs": [
    {
     "data": {
      "text/plain": [
       "Index(['Country Name', '1960', '1961', '1962', '1963', '1964', '1965', '1966',\n",
       "       '1967', '1968', '1969', '1970', '1971', '1972', '1973', '1974', '1975',\n",
       "       '1976', '1977', '1978', '1979', '1980', '1981', '1982', '1983', '1984',\n",
       "       '1985', '1986', '1987', '1988', '1989', '1990', '1991', '1992', '1993',\n",
       "       '1994', '1995', '1996', '1997', '1998', '1999', '2000', '2001', '2002',\n",
       "       '2003', '2004', '2005', '2006', '2007', '2008', '2009', '2010', '2011',\n",
       "       '2012', '2013', '2014', '2015', '2016', '2017', '2018', '2019', '2020',\n",
       "       'Unnamed: 65'],\n",
       "      dtype='object')"
      ]
     },
     "execution_count": 9,
     "metadata": {},
     "output_type": "execute_result"
    }
   ],
   "source": [
    "#Extracting the column names to paste it into the below function for transposition.\n",
    "gdp.columns"
   ]
  },
  {
   "cell_type": "code",
   "execution_count": 10,
   "id": "c11f2ee8",
   "metadata": {},
   "outputs": [],
   "source": [
    "#Making a transpose function so that we dont have to write the code again.\n",
    "def transpose_dataframe(df, value):\n",
    "    df=df.melt(id_vars=['Country Name'], value_vars=['1960', '1961', '1962', '1963', '1964',\n",
    "       '1965', '1966', '1967', '1968', '1969', '1970', '1971', '1972', '1973',\n",
    "       '1974', '1975', '1976', '1977', '1978', '1979', '1980', '1981', '1982',\n",
    "       '1983', '1984', '1985', '1986', '1987', '1988', '1989', '1990', '1991',\n",
    "       '1992', '1993', '1994', '1995', '1996', '1997', '1998', '1999', '2000',\n",
    "       '2001', '2002', '2003', '2004', '2005', '2006', '2007', '2008', '2009',\n",
    "       '2010', '2011', '2012', '2013', '2014', '2015', '2016', '2017', '2018',\n",
    "       '2019', '2020'], var_name='Year', value_name=f'{value}', col_level=None, ignore_index=True)\n",
    "    return df"
   ]
  },
  {
   "cell_type": "code",
   "execution_count": 11,
   "id": "6af8323b",
   "metadata": {},
   "outputs": [],
   "source": [
    "gdp_new = transpose_dataframe(gdp, 'gdp_per_capita' )\n",
    "co2_new = transpose_dataframe(co2, 'co2_per_capita' )\n",
    "arable_new = transpose_dataframe(arable, 'arable_per_capita' )\n",
    "mortality_new = transpose_dataframe(mortality, 'mortality_per_1000' )"
   ]
  },
  {
   "cell_type": "markdown",
   "id": "c1e6a3ad",
   "metadata": {},
   "source": [
    "## Exploring the dataframes after transposition"
   ]
  },
  {
   "cell_type": "code",
   "execution_count": 12,
   "id": "b8e99a81",
   "metadata": {},
   "outputs": [
    {
     "data": {
      "text/html": [
       "<div>\n",
       "<style scoped>\n",
       "    .dataframe tbody tr th:only-of-type {\n",
       "        vertical-align: middle;\n",
       "    }\n",
       "\n",
       "    .dataframe tbody tr th {\n",
       "        vertical-align: top;\n",
       "    }\n",
       "\n",
       "    .dataframe thead th {\n",
       "        text-align: right;\n",
       "    }\n",
       "</style>\n",
       "<table border=\"1\" class=\"dataframe\">\n",
       "  <thead>\n",
       "    <tr style=\"text-align: right;\">\n",
       "      <th></th>\n",
       "      <th>Country Name</th>\n",
       "      <th>Year</th>\n",
       "      <th>gdp_per_capita</th>\n",
       "    </tr>\n",
       "  </thead>\n",
       "  <tbody>\n",
       "    <tr>\n",
       "      <th>0</th>\n",
       "      <td>Aruba</td>\n",
       "      <td>1960</td>\n",
       "      <td>NaN</td>\n",
       "    </tr>\n",
       "    <tr>\n",
       "      <th>1</th>\n",
       "      <td>Africa Eastern and Southern</td>\n",
       "      <td>1960</td>\n",
       "      <td>147.507808</td>\n",
       "    </tr>\n",
       "    <tr>\n",
       "      <th>2</th>\n",
       "      <td>Afghanistan</td>\n",
       "      <td>1960</td>\n",
       "      <td>59.773234</td>\n",
       "    </tr>\n",
       "    <tr>\n",
       "      <th>3</th>\n",
       "      <td>Africa Western and Central</td>\n",
       "      <td>1960</td>\n",
       "      <td>107.932233</td>\n",
       "    </tr>\n",
       "    <tr>\n",
       "      <th>4</th>\n",
       "      <td>Angola</td>\n",
       "      <td>1960</td>\n",
       "      <td>NaN</td>\n",
       "    </tr>\n",
       "  </tbody>\n",
       "</table>\n",
       "</div>"
      ],
      "text/plain": [
       "                  Country Name  Year  gdp_per_capita\n",
       "0                        Aruba  1960             NaN\n",
       "1  Africa Eastern and Southern  1960      147.507808\n",
       "2                  Afghanistan  1960       59.773234\n",
       "3   Africa Western and Central  1960      107.932233\n",
       "4                       Angola  1960             NaN"
      ]
     },
     "execution_count": 12,
     "metadata": {},
     "output_type": "execute_result"
    }
   ],
   "source": [
    "gdp_new.head()"
   ]
  },
  {
   "cell_type": "code",
   "execution_count": 13,
   "id": "81f30491",
   "metadata": {},
   "outputs": [
    {
     "data": {
      "text/html": [
       "<div>\n",
       "<style scoped>\n",
       "    .dataframe tbody tr th:only-of-type {\n",
       "        vertical-align: middle;\n",
       "    }\n",
       "\n",
       "    .dataframe tbody tr th {\n",
       "        vertical-align: top;\n",
       "    }\n",
       "\n",
       "    .dataframe thead th {\n",
       "        text-align: right;\n",
       "    }\n",
       "</style>\n",
       "<table border=\"1\" class=\"dataframe\">\n",
       "  <thead>\n",
       "    <tr style=\"text-align: right;\">\n",
       "      <th></th>\n",
       "      <th>Country Name</th>\n",
       "      <th>Year</th>\n",
       "      <th>co2_per_capita</th>\n",
       "    </tr>\n",
       "  </thead>\n",
       "  <tbody>\n",
       "    <tr>\n",
       "      <th>0</th>\n",
       "      <td>Aruba</td>\n",
       "      <td>1960</td>\n",
       "      <td>204.631696</td>\n",
       "    </tr>\n",
       "    <tr>\n",
       "      <th>1</th>\n",
       "      <td>Africa Eastern and Southern</td>\n",
       "      <td>1960</td>\n",
       "      <td>0.906060</td>\n",
       "    </tr>\n",
       "    <tr>\n",
       "      <th>2</th>\n",
       "      <td>Afghanistan</td>\n",
       "      <td>1960</td>\n",
       "      <td>0.046057</td>\n",
       "    </tr>\n",
       "    <tr>\n",
       "      <th>3</th>\n",
       "      <td>Africa Western and Central</td>\n",
       "      <td>1960</td>\n",
       "      <td>0.090880</td>\n",
       "    </tr>\n",
       "    <tr>\n",
       "      <th>4</th>\n",
       "      <td>Angola</td>\n",
       "      <td>1960</td>\n",
       "      <td>0.100835</td>\n",
       "    </tr>\n",
       "  </tbody>\n",
       "</table>\n",
       "</div>"
      ],
      "text/plain": [
       "                  Country Name  Year  co2_per_capita\n",
       "0                        Aruba  1960      204.631696\n",
       "1  Africa Eastern and Southern  1960        0.906060\n",
       "2                  Afghanistan  1960        0.046057\n",
       "3   Africa Western and Central  1960        0.090880\n",
       "4                       Angola  1960        0.100835"
      ]
     },
     "execution_count": 13,
     "metadata": {},
     "output_type": "execute_result"
    }
   ],
   "source": [
    "co2_new.head()"
   ]
  },
  {
   "cell_type": "code",
   "execution_count": 14,
   "id": "7fdde71e",
   "metadata": {},
   "outputs": [
    {
     "data": {
      "text/html": [
       "<div>\n",
       "<style scoped>\n",
       "    .dataframe tbody tr th:only-of-type {\n",
       "        vertical-align: middle;\n",
       "    }\n",
       "\n",
       "    .dataframe tbody tr th {\n",
       "        vertical-align: top;\n",
       "    }\n",
       "\n",
       "    .dataframe thead th {\n",
       "        text-align: right;\n",
       "    }\n",
       "</style>\n",
       "<table border=\"1\" class=\"dataframe\">\n",
       "  <thead>\n",
       "    <tr style=\"text-align: right;\">\n",
       "      <th></th>\n",
       "      <th>Country Name</th>\n",
       "      <th>Year</th>\n",
       "      <th>gdp_per_capita</th>\n",
       "    </tr>\n",
       "  </thead>\n",
       "  <tbody>\n",
       "    <tr>\n",
       "      <th>16221</th>\n",
       "      <td>Kosovo</td>\n",
       "      <td>2020</td>\n",
       "      <td>4346.637931</td>\n",
       "    </tr>\n",
       "    <tr>\n",
       "      <th>16222</th>\n",
       "      <td>Yemen, Rep.</td>\n",
       "      <td>2020</td>\n",
       "      <td>NaN</td>\n",
       "    </tr>\n",
       "    <tr>\n",
       "      <th>16223</th>\n",
       "      <td>South Africa</td>\n",
       "      <td>2020</td>\n",
       "      <td>5655.867654</td>\n",
       "    </tr>\n",
       "    <tr>\n",
       "      <th>16224</th>\n",
       "      <td>Zambia</td>\n",
       "      <td>2020</td>\n",
       "      <td>985.132436</td>\n",
       "    </tr>\n",
       "    <tr>\n",
       "      <th>16225</th>\n",
       "      <td>Zimbabwe</td>\n",
       "      <td>2020</td>\n",
       "      <td>1214.509820</td>\n",
       "    </tr>\n",
       "  </tbody>\n",
       "</table>\n",
       "</div>"
      ],
      "text/plain": [
       "       Country Name  Year  gdp_per_capita\n",
       "16221        Kosovo  2020     4346.637931\n",
       "16222   Yemen, Rep.  2020             NaN\n",
       "16223  South Africa  2020     5655.867654\n",
       "16224        Zambia  2020      985.132436\n",
       "16225      Zimbabwe  2020     1214.509820"
      ]
     },
     "execution_count": 14,
     "metadata": {},
     "output_type": "execute_result"
    }
   ],
   "source": [
    "gdp_new.tail()"
   ]
  },
  {
   "cell_type": "code",
   "execution_count": 15,
   "id": "a8011bdb",
   "metadata": {},
   "outputs": [
    {
     "data": {
      "text/plain": [
       "Country Name         0\n",
       "Year                 0\n",
       "gdp_per_capita    3390\n",
       "dtype: int64"
      ]
     },
     "execution_count": 15,
     "metadata": {},
     "output_type": "execute_result"
    }
   ],
   "source": [
    "#Checking for null values.\n",
    "\n",
    "gdp_new.isna().sum()"
   ]
  },
  {
   "cell_type": "markdown",
   "id": "a337d60a",
   "metadata": {},
   "source": [
    "## Since there are null values, I will fill the those with country-wise mean imputation."
   ]
  },
  {
   "cell_type": "code",
   "execution_count": 16,
   "id": "72e7938b",
   "metadata": {},
   "outputs": [],
   "source": [
    "#Defining a function for mean imputation\n",
    "\n",
    "def imputation(df, col):\n",
    "    return df[col].fillna(df.groupby('Country Name')[col].transform('mean'))"
   ]
  },
  {
   "cell_type": "code",
   "execution_count": 17,
   "id": "c051e843",
   "metadata": {},
   "outputs": [],
   "source": [
    "gdp_new['gdp_per_capita']= imputation(gdp_new, 'gdp_per_capita')\n",
    "co2_new['co2_per_capita']= imputation(co2_new, 'co2_per_capita')\n",
    "mortality_new['mortality_per_1000']= imputation(mortality_new, 'mortality_per_1000')\n",
    "arable_new['arable_per_capita']= imputation(arable_new, 'arable_per_capita')\n"
   ]
  },
  {
   "cell_type": "code",
   "execution_count": 18,
   "id": "b908a5ca",
   "metadata": {},
   "outputs": [],
   "source": [
    "# gdp_new['gdp_per_capita'] = gdp_new['gdp_per_capita'].fillna(gdp_new.groupby('Country Name')['gdp_per_capita'].transform('mean'))\n",
    "# co2_new['co2_per_capita'] = co2_new['co2_per_capita'].fillna(co2_new.groupby('Country Name')['co2_per_capita'].transform('mean'))"
   ]
  },
  {
   "cell_type": "code",
   "execution_count": 19,
   "id": "569f0f30",
   "metadata": {},
   "outputs": [],
   "source": [
    "# mortality_new['mortality_per_1000'] = mortality_new['mortality_per_1000'].fillna(mortality_new.groupby('Country Name')['mortality_per_1000'].transform('mean'))"
   ]
  },
  {
   "cell_type": "code",
   "execution_count": 20,
   "id": "6fbd551f",
   "metadata": {},
   "outputs": [],
   "source": [
    "# arable_new['arable_per_capita'] = arable_new['arable_per_capita'].fillna(arable_new.groupby('Country Name')['arable_per_capita'].transform('mean'))"
   ]
  },
  {
   "cell_type": "code",
   "execution_count": 21,
   "id": "ffc64077",
   "metadata": {},
   "outputs": [
    {
     "data": {
      "text/plain": [
       "Country Name        0\n",
       "Year                0\n",
       "gdp_per_capita    305\n",
       "dtype: int64"
      ]
     },
     "execution_count": 21,
     "metadata": {},
     "output_type": "execute_result"
    }
   ],
   "source": [
    "#Checking if the null values have reduced?\n",
    "gdp_new.isna().sum()"
   ]
  },
  {
   "cell_type": "code",
   "execution_count": 22,
   "id": "045d610f",
   "metadata": {},
   "outputs": [],
   "source": [
    "## Merging all these dataframes into one.\n",
    "\n",
    "new_df= pd.merge(gdp_new,mortality_new,how='inner',on=['Year', 'Country Name'])\n",
    "new_df1= pd.merge(new_df,co2_new,how='inner',on=['Year', 'Country Name'])\n",
    "data=pd.merge(new_df1,arable_new,how='inner',on=['Year', 'Country Name'])"
   ]
  },
  {
   "cell_type": "code",
   "execution_count": 23,
   "id": "493ce0b7",
   "metadata": {},
   "outputs": [
    {
     "data": {
      "text/html": [
       "<div>\n",
       "<style scoped>\n",
       "    .dataframe tbody tr th:only-of-type {\n",
       "        vertical-align: middle;\n",
       "    }\n",
       "\n",
       "    .dataframe tbody tr th {\n",
       "        vertical-align: top;\n",
       "    }\n",
       "\n",
       "    .dataframe thead th {\n",
       "        text-align: right;\n",
       "    }\n",
       "</style>\n",
       "<table border=\"1\" class=\"dataframe\">\n",
       "  <thead>\n",
       "    <tr style=\"text-align: right;\">\n",
       "      <th></th>\n",
       "      <th>Country Name</th>\n",
       "      <th>Year</th>\n",
       "      <th>gdp_per_capita</th>\n",
       "      <th>mortality_per_1000</th>\n",
       "      <th>co2_per_capita</th>\n",
       "      <th>arable_per_capita</th>\n",
       "    </tr>\n",
       "  </thead>\n",
       "  <tbody>\n",
       "    <tr>\n",
       "      <th>13275</th>\n",
       "      <td>Sub-Saharan Africa (IDA &amp; IBRD countries)</td>\n",
       "      <td>2009</td>\n",
       "      <td>1441.287950</td>\n",
       "      <td>105.259047</td>\n",
       "      <td>0.780112</td>\n",
       "      <td>0.224432</td>\n",
       "    </tr>\n",
       "    <tr>\n",
       "      <th>12228</th>\n",
       "      <td>Vanuatu</td>\n",
       "      <td>2005</td>\n",
       "      <td>1887.226576</td>\n",
       "      <td>28.500000</td>\n",
       "      <td>0.334477</td>\n",
       "      <td>0.095565</td>\n",
       "    </tr>\n",
       "    <tr>\n",
       "      <th>3328</th>\n",
       "      <td>Low income</td>\n",
       "      <td>1972</td>\n",
       "      <td>560.338952</td>\n",
       "      <td>122.300000</td>\n",
       "      <td>0.676152</td>\n",
       "      <td>0.451131</td>\n",
       "    </tr>\n",
       "    <tr>\n",
       "      <th>3339</th>\n",
       "      <td>St. Martin (French part)</td>\n",
       "      <td>1972</td>\n",
       "      <td>NaN</td>\n",
       "      <td>NaN</td>\n",
       "      <td>NaN</td>\n",
       "      <td>NaN</td>\n",
       "    </tr>\n",
       "    <tr>\n",
       "      <th>11149</th>\n",
       "      <td>Tunisia</td>\n",
       "      <td>2001</td>\n",
       "      <td>2253.034852</td>\n",
       "      <td>27.800000</td>\n",
       "      <td>2.210556</td>\n",
       "      <td>0.283237</td>\n",
       "    </tr>\n",
       "  </tbody>\n",
       "</table>\n",
       "</div>"
      ],
      "text/plain": [
       "                                    Country Name  Year  gdp_per_capita  \\\n",
       "13275  Sub-Saharan Africa (IDA & IBRD countries)  2009     1441.287950   \n",
       "12228                                    Vanuatu  2005     1887.226576   \n",
       "3328                                  Low income  1972      560.338952   \n",
       "3339                    St. Martin (French part)  1972             NaN   \n",
       "11149                                    Tunisia  2001     2253.034852   \n",
       "\n",
       "       mortality_per_1000  co2_per_capita  arable_per_capita  \n",
       "13275          105.259047        0.780112           0.224432  \n",
       "12228           28.500000        0.334477           0.095565  \n",
       "3328           122.300000        0.676152           0.451131  \n",
       "3339                  NaN             NaN                NaN  \n",
       "11149           27.800000        2.210556           0.283237  "
      ]
     },
     "execution_count": 23,
     "metadata": {},
     "output_type": "execute_result"
    }
   ],
   "source": [
    "## Exploring the merged dataframe\n",
    "\n",
    "data.sample(5)"
   ]
  },
  {
   "cell_type": "code",
   "execution_count": 24,
   "id": "d75c3926",
   "metadata": {},
   "outputs": [],
   "source": [
    "##Dropping null values from the dataframe\n",
    "\n",
    "data.dropna(inplace=True)"
   ]
  },
  {
   "cell_type": "code",
   "execution_count": 25,
   "id": "5795f2a9",
   "metadata": {},
   "outputs": [
    {
     "name": "stdout",
     "output_type": "stream",
     "text": [
      "<class 'pandas.core.frame.DataFrame'>\n",
      "Int64Index: 14274 entries, 1 to 16225\n",
      "Data columns (total 6 columns):\n",
      " #   Column              Non-Null Count  Dtype  \n",
      "---  ------              --------------  -----  \n",
      " 0   Country Name        14274 non-null  object \n",
      " 1   Year                14274 non-null  object \n",
      " 2   gdp_per_capita      14274 non-null  float64\n",
      " 3   mortality_per_1000  14274 non-null  float64\n",
      " 4   co2_per_capita      14274 non-null  float64\n",
      " 5   arable_per_capita   14274 non-null  float64\n",
      "dtypes: float64(4), object(2)\n",
      "memory usage: 780.6+ KB\n"
     ]
    }
   ],
   "source": [
    "data.info()"
   ]
  },
  {
   "cell_type": "code",
   "execution_count": 26,
   "id": "956a9906",
   "metadata": {},
   "outputs": [],
   "source": [
    "## Changing the datatypesof columns in the dataframe\n",
    "\n",
    "data['mortality_per_1000'] = data['mortality_per_1000'].astype(float)\n",
    "data['gdp_per_capita'] = data['gdp_per_capita'].astype(float)\n",
    "data['co2_per_capita'] = data['co2_per_capita'].astype(float)\n",
    "\n",
    "data['arable_per_capita'] = data['arable_per_capita'].astype(float)\n",
    "data['Year']=data['Year'].astype(int)"
   ]
  },
  {
   "cell_type": "code",
   "execution_count": 27,
   "id": "1a0c4dfe",
   "metadata": {},
   "outputs": [
    {
     "name": "stdout",
     "output_type": "stream",
     "text": [
      "<class 'pandas.core.frame.DataFrame'>\n",
      "Int64Index: 14274 entries, 1 to 16225\n",
      "Data columns (total 6 columns):\n",
      " #   Column              Non-Null Count  Dtype  \n",
      "---  ------              --------------  -----  \n",
      " 0   Country Name        14274 non-null  object \n",
      " 1   Year                14274 non-null  int32  \n",
      " 2   gdp_per_capita      14274 non-null  float64\n",
      " 3   mortality_per_1000  14274 non-null  float64\n",
      " 4   co2_per_capita      14274 non-null  float64\n",
      " 5   arable_per_capita   14274 non-null  float64\n",
      "dtypes: float64(4), int32(1), object(1)\n",
      "memory usage: 724.9+ KB\n"
     ]
    }
   ],
   "source": [
    "data.info()"
   ]
  },
  {
   "cell_type": "code",
   "execution_count": 28,
   "id": "f4ae6dae",
   "metadata": {},
   "outputs": [
    {
     "data": {
      "text/html": [
       "<div>\n",
       "<style scoped>\n",
       "    .dataframe tbody tr th:only-of-type {\n",
       "        vertical-align: middle;\n",
       "    }\n",
       "\n",
       "    .dataframe tbody tr th {\n",
       "        vertical-align: top;\n",
       "    }\n",
       "\n",
       "    .dataframe thead th {\n",
       "        text-align: right;\n",
       "    }\n",
       "</style>\n",
       "<table border=\"1\" class=\"dataframe\">\n",
       "  <thead>\n",
       "    <tr style=\"text-align: right;\">\n",
       "      <th></th>\n",
       "      <th>Country Name</th>\n",
       "      <th>Year</th>\n",
       "      <th>gdp_per_capita</th>\n",
       "      <th>mortality_per_1000</th>\n",
       "      <th>co2_per_capita</th>\n",
       "      <th>arable_per_capita</th>\n",
       "    </tr>\n",
       "  </thead>\n",
       "  <tbody>\n",
       "    <tr>\n",
       "      <th>1</th>\n",
       "      <td>Africa Eastern and Southern</td>\n",
       "      <td>1960</td>\n",
       "      <td>147.507808</td>\n",
       "      <td>153.216310</td>\n",
       "      <td>0.906060</td>\n",
       "      <td>0.288737</td>\n",
       "    </tr>\n",
       "    <tr>\n",
       "      <th>2</th>\n",
       "      <td>Afghanistan</td>\n",
       "      <td>1960</td>\n",
       "      <td>59.773234</td>\n",
       "      <td>186.848276</td>\n",
       "      <td>0.046057</td>\n",
       "      <td>0.514591</td>\n",
       "    </tr>\n",
       "    <tr>\n",
       "      <th>3</th>\n",
       "      <td>Africa Western and Central</td>\n",
       "      <td>1960</td>\n",
       "      <td>107.932233</td>\n",
       "      <td>192.181742</td>\n",
       "      <td>0.090880</td>\n",
       "      <td>0.400863</td>\n",
       "    </tr>\n",
       "    <tr>\n",
       "      <th>4</th>\n",
       "      <td>Angola</td>\n",
       "      <td>1960</td>\n",
       "      <td>1926.375416</td>\n",
       "      <td>177.230000</td>\n",
       "      <td>0.100835</td>\n",
       "      <td>0.294784</td>\n",
       "    </tr>\n",
       "    <tr>\n",
       "      <th>5</th>\n",
       "      <td>Albania</td>\n",
       "      <td>1960</td>\n",
       "      <td>2338.374773</td>\n",
       "      <td>34.161905</td>\n",
       "      <td>1.258195</td>\n",
       "      <td>0.211435</td>\n",
       "    </tr>\n",
       "  </tbody>\n",
       "</table>\n",
       "</div>"
      ],
      "text/plain": [
       "                  Country Name  Year  gdp_per_capita  mortality_per_1000  \\\n",
       "1  Africa Eastern and Southern  1960      147.507808          153.216310   \n",
       "2                  Afghanistan  1960       59.773234          186.848276   \n",
       "3   Africa Western and Central  1960      107.932233          192.181742   \n",
       "4                       Angola  1960     1926.375416          177.230000   \n",
       "5                      Albania  1960     2338.374773           34.161905   \n",
       "\n",
       "   co2_per_capita  arable_per_capita  \n",
       "1        0.906060           0.288737  \n",
       "2        0.046057           0.514591  \n",
       "3        0.090880           0.400863  \n",
       "4        0.100835           0.294784  \n",
       "5        1.258195           0.211435  "
      ]
     },
     "execution_count": 28,
     "metadata": {},
     "output_type": "execute_result"
    }
   ],
   "source": [
    "data.head()"
   ]
  },
  {
   "cell_type": "markdown",
   "id": "59255162",
   "metadata": {},
   "source": [
    "## Considering the recent values in the dataframe, i.e. the year 2020"
   ]
  },
  {
   "cell_type": "code",
   "execution_count": 29,
   "id": "789a2cb2",
   "metadata": {},
   "outputs": [
    {
     "data": {
      "text/html": [
       "<div>\n",
       "<style scoped>\n",
       "    .dataframe tbody tr th:only-of-type {\n",
       "        vertical-align: middle;\n",
       "    }\n",
       "\n",
       "    .dataframe tbody tr th {\n",
       "        vertical-align: top;\n",
       "    }\n",
       "\n",
       "    .dataframe thead th {\n",
       "        text-align: right;\n",
       "    }\n",
       "</style>\n",
       "<table border=\"1\" class=\"dataframe\">\n",
       "  <thead>\n",
       "    <tr style=\"text-align: right;\">\n",
       "      <th></th>\n",
       "      <th>Country Name</th>\n",
       "      <th>Year</th>\n",
       "      <th>gdp_per_capita</th>\n",
       "      <th>mortality_per_1000</th>\n",
       "      <th>co2_per_capita</th>\n",
       "      <th>arable_per_capita</th>\n",
       "    </tr>\n",
       "  </thead>\n",
       "  <tbody>\n",
       "    <tr>\n",
       "      <th>16003</th>\n",
       "      <td>Congo, Dem. Rep.</td>\n",
       "      <td>2020</td>\n",
       "      <td>543.950393</td>\n",
       "      <td>170.456863</td>\n",
       "      <td>0.087264</td>\n",
       "      <td>0.218970</td>\n",
       "    </tr>\n",
       "    <tr>\n",
       "      <th>16101</th>\n",
       "      <td>Lesotho</td>\n",
       "      <td>2020</td>\n",
       "      <td>875.353433</td>\n",
       "      <td>123.223333</td>\n",
       "      <td>0.965355</td>\n",
       "      <td>0.227654</td>\n",
       "    </tr>\n",
       "    <tr>\n",
       "      <th>16045</th>\n",
       "      <td>Guinea</td>\n",
       "      <td>2020</td>\n",
       "      <td>1194.037865</td>\n",
       "      <td>223.621667</td>\n",
       "      <td>0.190247</td>\n",
       "      <td>0.516049</td>\n",
       "    </tr>\n",
       "    <tr>\n",
       "      <th>16186</th>\n",
       "      <td>Seychelles</td>\n",
       "      <td>2020</td>\n",
       "      <td>10764.420422</td>\n",
       "      <td>35.608333</td>\n",
       "      <td>3.427234</td>\n",
       "      <td>0.013620</td>\n",
       "    </tr>\n",
       "    <tr>\n",
       "      <th>16061</th>\n",
       "      <td>Hungary</td>\n",
       "      <td>2020</td>\n",
       "      <td>15980.740890</td>\n",
       "      <td>21.235000</td>\n",
       "      <td>6.119870</td>\n",
       "      <td>0.472729</td>\n",
       "    </tr>\n",
       "  </tbody>\n",
       "</table>\n",
       "</div>"
      ],
      "text/plain": [
       "           Country Name  Year  gdp_per_capita  mortality_per_1000  \\\n",
       "16003  Congo, Dem. Rep.  2020      543.950393          170.456863   \n",
       "16101           Lesotho  2020      875.353433          123.223333   \n",
       "16045            Guinea  2020     1194.037865          223.621667   \n",
       "16186        Seychelles  2020    10764.420422           35.608333   \n",
       "16061           Hungary  2020    15980.740890           21.235000   \n",
       "\n",
       "       co2_per_capita  arable_per_capita  \n",
       "16003        0.087264           0.218970  \n",
       "16101        0.965355           0.227654  \n",
       "16045        0.190247           0.516049  \n",
       "16186        3.427234           0.013620  \n",
       "16061        6.119870           0.472729  "
      ]
     },
     "execution_count": 29,
     "metadata": {},
     "output_type": "execute_result"
    }
   ],
   "source": [
    "other_df= data[data['Year'] == 2020]\n",
    "other_df.sample(5)"
   ]
  },
  {
   "cell_type": "code",
   "execution_count": 30,
   "id": "e90f9b26",
   "metadata": {},
   "outputs": [],
   "source": [
    "## Using the function from the lecture for the normaliation of the dataframe, since it is important for clustering.\n",
    "\n",
    "def norm(array):\n",
    "    \"\"\" Returns array normalised to [0,1] \"\"\"\n",
    "\n",
    "    min_val = np.min(array)\n",
    "    max_val = np.max(array)\n",
    "    \n",
    "    scaled = (array - min_val) / (max_val - min_val)\n",
    "    \n",
    "    return scaled\n",
    "\n",
    "\n",
    "def norm_df(df):\n",
    "    \"\"\" \n",
    "    Returns all columns of the dataframe normalised to [0,1] with the \n",
    "    exception the first (containing the names)\n",
    "    Calls function norm to do the normalisation of one column, but\n",
    "    doing all in one function is also fine. \n",
    "    \"\"\"\n",
    "    \n",
    "    # iterate over all columns\n",
    "    for col in df.columns[2:]:     # excluding the first column\n",
    "        df[col] = norm(df[col])\n",
    "        \n",
    "    return df"
   ]
  },
  {
   "cell_type": "code",
   "execution_count": 31,
   "id": "0bb5a476",
   "metadata": {},
   "outputs": [
    {
     "name": "stdout",
     "output_type": "stream",
     "text": [
      "         Year  gdp_per_capita  mortality_per_1000  co2_per_capita  \\\n",
      "count   234.0      234.000000          234.000000      234.000000   \n",
      "mean   2020.0        0.105335            0.268908        0.089441   \n",
      "std       0.0        0.153574            0.236012        0.123787   \n",
      "min    2020.0        0.000000            0.000000        0.000000   \n",
      "25%    2020.0        0.013736            0.086905        0.012519   \n",
      "50%    2020.0        0.040767            0.189842        0.044030   \n",
      "75%    2020.0        0.117153            0.427927        0.128384   \n",
      "max    2020.0        1.000000            1.000000        1.000000   \n",
      "\n",
      "       arable_per_capita  \n",
      "count         234.000000  \n",
      "mean            0.147350  \n",
      "std             0.129786  \n",
      "min             0.000000  \n",
      "25%             0.064635  \n",
      "50%             0.123768  \n",
      "75%             0.183028  \n",
      "max             1.000000  \n"
     ]
    },
    {
     "name": "stderr",
     "output_type": "stream",
     "text": [
      "<ipython-input-30-bdc457f01d40>:24: SettingWithCopyWarning: \n",
      "A value is trying to be set on a copy of a slice from a DataFrame.\n",
      "Try using .loc[row_indexer,col_indexer] = value instead\n",
      "\n",
      "See the caveats in the documentation: https://pandas.pydata.org/pandas-docs/stable/user_guide/indexing.html#returning-a-view-versus-a-copy\n",
      "  df[col] = norm(df[col])\n"
     ]
    }
   ],
   "source": [
    "df_norm=  norm_df(other_df)\n",
    "print(df_norm.describe())\n"
   ]
  },
  {
   "cell_type": "code",
   "execution_count": 32,
   "id": "2ff0082d",
   "metadata": {},
   "outputs": [
    {
     "data": {
      "text/plain": [
       "(234, 6)"
      ]
     },
     "execution_count": 32,
     "metadata": {},
     "output_type": "execute_result"
    }
   ],
   "source": [
    "df_norm.shape"
   ]
  },
  {
   "cell_type": "code",
   "execution_count": 33,
   "id": "397a9a2c",
   "metadata": {},
   "outputs": [
    {
     "data": {
      "text/html": [
       "<div>\n",
       "<style scoped>\n",
       "    .dataframe tbody tr th:only-of-type {\n",
       "        vertical-align: middle;\n",
       "    }\n",
       "\n",
       "    .dataframe tbody tr th {\n",
       "        vertical-align: top;\n",
       "    }\n",
       "\n",
       "    .dataframe thead th {\n",
       "        text-align: right;\n",
       "    }\n",
       "</style>\n",
       "<table border=\"1\" class=\"dataframe\">\n",
       "  <thead>\n",
       "    <tr style=\"text-align: right;\">\n",
       "      <th></th>\n",
       "      <th>Country Name</th>\n",
       "      <th>Year</th>\n",
       "      <th>gdp_per_capita</th>\n",
       "      <th>mortality_per_1000</th>\n",
       "      <th>co2_per_capita</th>\n",
       "      <th>arable_per_capita</th>\n",
       "    </tr>\n",
       "  </thead>\n",
       "  <tbody>\n",
       "    <tr>\n",
       "      <th>16115</th>\n",
       "      <td>Marshall Islands</td>\n",
       "      <td>2020</td>\n",
       "      <td>0.033607</td>\n",
       "      <td>0.211167</td>\n",
       "      <td>0.046401</td>\n",
       "      <td>0.014410</td>\n",
       "    </tr>\n",
       "    <tr>\n",
       "      <th>16155</th>\n",
       "      <td>Paraguay</td>\n",
       "      <td>2020</td>\n",
       "      <td>0.041132</td>\n",
       "      <td>0.178876</td>\n",
       "      <td>0.011276</td>\n",
       "      <td>0.266489</td>\n",
       "    </tr>\n",
       "    <tr>\n",
       "      <th>16003</th>\n",
       "      <td>Congo, Dem. Rep.</td>\n",
       "      <td>2020</td>\n",
       "      <td>0.002634</td>\n",
       "      <td>0.660578</td>\n",
       "      <td>0.001209</td>\n",
       "      <td>0.114788</td>\n",
       "    </tr>\n",
       "    <tr>\n",
       "      <th>15986</th>\n",
       "      <td>Belize</td>\n",
       "      <td>2020</td>\n",
       "      <td>0.033480</td>\n",
       "      <td>0.153563</td>\n",
       "      <td>0.032834</td>\n",
       "      <td>0.150361</td>\n",
       "    </tr>\n",
       "    <tr>\n",
       "      <th>15970</th>\n",
       "      <td>Armenia</td>\n",
       "      <td>2020</td>\n",
       "      <td>0.034783</td>\n",
       "      <td>0.138515</td>\n",
       "      <td>0.038909</td>\n",
       "      <td>0.077543</td>\n",
       "    </tr>\n",
       "  </tbody>\n",
       "</table>\n",
       "</div>"
      ],
      "text/plain": [
       "           Country Name  Year  gdp_per_capita  mortality_per_1000  \\\n",
       "16115  Marshall Islands  2020        0.033607            0.211167   \n",
       "16155          Paraguay  2020        0.041132            0.178876   \n",
       "16003  Congo, Dem. Rep.  2020        0.002634            0.660578   \n",
       "15986            Belize  2020        0.033480            0.153563   \n",
       "15970           Armenia  2020        0.034783            0.138515   \n",
       "\n",
       "       co2_per_capita  arable_per_capita  \n",
       "16115        0.046401           0.014410  \n",
       "16155        0.011276           0.266489  \n",
       "16003        0.001209           0.114788  \n",
       "15986        0.032834           0.150361  \n",
       "15970        0.038909           0.077543  "
      ]
     },
     "execution_count": 33,
     "metadata": {},
     "output_type": "execute_result"
    }
   ],
   "source": [
    "## Checking the normalized dataframe.\n",
    "df_norm.sample(5)"
   ]
  },
  {
   "cell_type": "code",
   "execution_count": 34,
   "id": "fce14926",
   "metadata": {},
   "outputs": [
    {
     "data": {
      "image/png": "[encoded data removed]",
      "text/plain": [
       "<Figure size 288x288 with 1 Axes>"
      ]
     },
     "metadata": {
      "needs_background": "light"
     },
     "output_type": "display_data"
    },
    {
     "data": {
      "image/png": "[encoded data removed]",
      "text/plain": [
       "<Figure size 288x288 with 1 Axes>"
      ]
     },
     "metadata": {
      "needs_background": "light"
     },
     "output_type": "display_data"
    },
    {
     "data": {
      "image/png": "[encoded data removed]",
      "text/plain": [
       "<Figure size 288x288 with 1 Axes>"
      ]
     },
     "metadata": {
      "needs_background": "light"
     },
     "output_type": "display_data"
    },
    {
     "data": {
      "image/png": "[encoded data removed]",
      "text/plain": [
       "<Figure size 288x288 with 1 Axes>"
      ]
     },
     "metadata": {
      "needs_background": "light"
     },
     "output_type": "display_data"
    },
    {
     "data": {
      "image/png": "[encoded data removed]",
      "text/plain": [
       "<Figure size 288x288 with 1 Axes>"
      ]
     },
     "metadata": {
      "needs_background": "light"
     },
     "output_type": "display_data"
    },
    {
     "data": {
      "image/png": "[encoded data removed]",
      "text/plain": [
       "<Figure size 288x288 with 1 Axes>"
      ]
     },
     "metadata": {
      "needs_background": "light"
     },
     "output_type": "display_data"
    },
    {
     "data": {
      "image/png": "[encoded data removed]",
      "text/plain": [
       "<Figure size 288x288 with 1 Axes>"
      ]
     },
     "metadata": {
      "needs_background": "light"
     },
     "output_type": "display_data"
    },
    {
     "data": {
      "image/png": "[encoded data removed]",
      "text/plain": [
       "<Figure size 288x288 with 1 Axes>"
      ]
     },
     "metadata": {
      "needs_background": "light"
     },
     "output_type": "display_data"
    },
    {
     "data": {
      "image/png": "[encoded data removed]",
      "text/plain": [
       "<Figure size 288x288 with 1 Axes>"
      ]
     },
     "metadata": {
      "needs_background": "light"
     },
     "output_type": "display_data"
    },
    {
     "data": {
      "image/png": "[encoded data removed]",
      "text/plain": [
       "<Figure size 288x288 with 1 Axes>"
      ]
     },
     "metadata": {
      "needs_background": "light"
     },
     "output_type": "display_data"
    }
   ],
   "source": [
    "## Making use of the plot function from the lecture assignment, in which the plot of two column is made. \n",
    "## We have to look for those, which are giving proper clusters.\n",
    "\n",
    "def makeplot(df, col1, col2):\n",
    "    \"\"\"\n",
    "    Produces a square plot of two columns of dataframe df using small circle \n",
    "    symbols.\n",
    "    \"\"\"\n",
    "    \n",
    "    plt.figure(figsize=(4,4))\n",
    "    plt.plot(df[col1], df[col2], \"o\", markersize=2)\n",
    "    \n",
    "    plt.xlabel(col1)\n",
    "    plt.ylabel(col2)\n",
    "    plt.show()\n",
    "    \n",
    "    \n",
    "# exploratory plots\n",
    "makeplot(df_norm, \"gdp_per_capita\", \"co2_per_capita\")\n",
    "makeplot(df_norm, \"gdp_per_capita\", \"mortality_per_1000\")\n",
    "makeplot(df_norm, \"gdp_per_capita\", \"arable_per_capita\")\n",
    "\n",
    "makeplot(df_norm, \"mortality_per_1000\", \"co2_per_capita\")\n",
    "makeplot(df_norm, \"arable_per_capita\", \"mortality_per_1000\")\n",
    "makeplot(df_norm, \"mortality_per_1000\", \"arable_per_capita\")\n",
    "\n",
    "makeplot(df_norm, \"Year\", \"co2_per_capita\")\n",
    "makeplot(df_norm, \"Year\", \"mortality_per_1000\")\n",
    "makeplot(df_norm, \"Year\", \"arable_per_capita\")\n",
    "makeplot(df_norm, \"Year\", \"gdp_per_capita\")"
   ]
  },
  {
   "cell_type": "code",
   "execution_count": 35,
   "id": "41b57090",
   "metadata": {},
   "outputs": [
    {
     "data": {
      "image/png": "[encoded data removed]",
      "text/plain": [
       "<Figure size 360x360 with 1 Axes>"
      ]
     },
     "metadata": {
      "needs_background": "light"
     },
     "output_type": "display_data"
    }
   ],
   "source": [
    "## By looking at the above, we see that the data can be divided into 4 clusters. \n",
    "## The Year and gdp_per_capita are giving proper cluster.\n",
    "## So applying the K-means clustering\n",
    "\n",
    "kmeans_cluster = cluster.KMeans(n_clusters=4)\n",
    "\n",
    "# extract columns for fitting\n",
    "df_fit = df_norm[[\"Year\", \"gdp_per_capita\"]].copy()\n",
    "kmeans_cluster.fit(df_fit)     \n",
    "\n",
    "# extract labels and cluster centres\n",
    "labels = kmeans_cluster.labels_\n",
    "cen = kmeans_cluster.cluster_centers_\n",
    "\n",
    "# plot using the labels to select colour\n",
    "plt.figure(figsize=(5,5))\n",
    "\n",
    "colors = [\"blue\", \"red\", \"green\", \"magenta\"]\n",
    "for l in range(4):     # loop over the different labels\n",
    "    plt.plot(df_fit[\"Year\"][labels==l], df_fit[\"gdp_per_capita\"][labels==l], \"o\", markersize=3, color=colors[l])\n",
    "    \n",
    "# show cluster centres\n",
    "for ic in range(4):\n",
    "    xc, yc = cen[ic,:]\n",
    "    plt.plot(xc, yc, \"dk\", markersize=10)\n",
    "    \n",
    "plt.xlabel(\"Year\")\n",
    "plt.ylabel(\"gdp_per_capita\")\n",
    "plt.show()"
   ]
  },
  {
   "cell_type": "code",
   "execution_count": 36,
   "id": "1e80c7f7",
   "metadata": {},
   "outputs": [],
   "source": [
    "# # First, build a model with 4 clusters\n",
    "\n",
    "# from sklearn.cluster import KMeans\n",
    "# from sklearn.metrics import silhouette_score\n",
    "\n",
    "# kmeans = KMeans(n_jobs = -1, n_clusters = 5, init='k-means++')\n",
    "# kmeans.fit(df_fit)\n",
    "\n",
    "\n",
    "\n",
    "# print(silhouette_score(df_fit, kmeans.labels_, metric='euclidean'))"
   ]
  },
  {
   "cell_type": "code",
   "execution_count": 37,
   "id": "be4d0ea4",
   "metadata": {},
   "outputs": [
    {
     "data": {
      "image/png": "[encoded data removed]",
      "text/plain": [
       "<Figure size 288x288 with 1 Axes>"
      ]
     },
     "metadata": {
      "needs_background": "light"
     },
     "output_type": "display_data"
    },
    {
     "name": "stderr",
     "output_type": "stream",
     "text": [
      "<ipython-input-37-1af8fda13d6e>:35: SettingWithCopyWarning: \n",
      "A value is trying to be set on a copy of a slice from a DataFrame.\n",
      "Try using .loc[row_indexer,col_indexer] = value instead\n",
      "\n",
      "See the caveats in the documentation: https://pandas.pydata.org/pandas-docs/stable/user_guide/indexing.html#returning-a-view-versus-a-copy\n",
      "  df_norm[\"labels\"] = labels\n"
     ]
    }
   ],
   "source": [
    "## Now, setting up the agglomerative clustering for 4 clusters\n",
    "agglomerative_cluster = cluster.AgglomerativeClustering(n_clusters=4)\n",
    "\n",
    "# carry out the fitting\n",
    "agglomerative_cluster.fit(df_fit)\n",
    "\n",
    "labels = agglomerative_cluster.labels_\n",
    "\n",
    "# The clusterer does not return cluster centres, but they are easily computed\n",
    "xcen = []\n",
    "ycen = []\n",
    "for ic in range(4):\n",
    "    xc = np.average(df_fit[\"Year\"][labels==ic])\n",
    "    yc = np.average(df_fit[\"gdp_per_capita\"][labels==ic])\n",
    "    xcen.append(xc)\n",
    "    ycen.append(yc)\n",
    "\n",
    "# plot using the labels to select colour\n",
    "plt.figure(figsize=(4,4))\n",
    "\n",
    "colors = [\"blue\", \"red\", \"green\", \"magenta\"]\n",
    "for l in range(0,4):     # loop over the different labels\n",
    "    plt.plot(df_fit[\"Year\"][labels==l], df_fit[\"gdp_per_capita\"][labels==l], \"o\", markersize=3, color=colors[l])\n",
    "    \n",
    "# show cluster centres\n",
    "for ic in range(4):\n",
    "    plt.plot(xcen[ic], ycen[ic], \"dk\", markersize=10)\n",
    "    \n",
    "plt.xlabel(\"Year\")\n",
    "plt.ylabel(\"gdp_per_capita\")\n",
    "plt.show()\n",
    "\n",
    "\n",
    "### writing labels into the dataframe, and sorting it against labels.\n",
    "df_norm[\"labels\"] = labels\n",
    "df_norm = df_norm.sort_values([\"labels\"], ignore_index=True)\n"
   ]
  },
  {
   "cell_type": "code",
   "execution_count": 38,
   "id": "9f45a7c1",
   "metadata": {},
   "outputs": [
    {
     "data": {
      "text/html": [
       "<div>\n",
       "<style scoped>\n",
       "    .dataframe tbody tr th:only-of-type {\n",
       "        vertical-align: middle;\n",
       "    }\n",
       "\n",
       "    .dataframe tbody tr th {\n",
       "        vertical-align: top;\n",
       "    }\n",
       "\n",
       "    .dataframe thead th {\n",
       "        text-align: right;\n",
       "    }\n",
       "</style>\n",
       "<table border=\"1\" class=\"dataframe\">\n",
       "  <thead>\n",
       "    <tr style=\"text-align: right;\">\n",
       "      <th></th>\n",
       "      <th>Country Name</th>\n",
       "      <th>Year</th>\n",
       "      <th>gdp_per_capita</th>\n",
       "      <th>mortality_per_1000</th>\n",
       "      <th>co2_per_capita</th>\n",
       "      <th>arable_per_capita</th>\n",
       "      <th>labels</th>\n",
       "    </tr>\n",
       "  </thead>\n",
       "  <tbody>\n",
       "    <tr>\n",
       "      <th>37</th>\n",
       "      <td>Least developed countries: UN classification</td>\n",
       "      <td>2020</td>\n",
       "      <td>0.007021</td>\n",
       "      <td>0.438611</td>\n",
       "      <td>0.003327</td>\n",
       "      <td>0.143292</td>\n",
       "      <td>0</td>\n",
       "    </tr>\n",
       "    <tr>\n",
       "      <th>50</th>\n",
       "      <td>Middle East &amp; North Africa</td>\n",
       "      <td>2020</td>\n",
       "      <td>0.054203</td>\n",
       "      <td>0.129158</td>\n",
       "      <td>0.079652</td>\n",
       "      <td>0.127886</td>\n",
       "      <td>0</td>\n",
       "    </tr>\n",
       "    <tr>\n",
       "      <th>39</th>\n",
       "      <td>Sri Lanka</td>\n",
       "      <td>2020</td>\n",
       "      <td>0.029727</td>\n",
       "      <td>0.126148</td>\n",
       "      <td>0.008637</td>\n",
       "      <td>0.030123</td>\n",
       "      <td>0</td>\n",
       "    </tr>\n",
       "    <tr>\n",
       "      <th>79</th>\n",
       "      <td>Tajikistan</td>\n",
       "      <td>2020</td>\n",
       "      <td>0.005356</td>\n",
       "      <td>0.340144</td>\n",
       "      <td>0.012422</td>\n",
       "      <td>0.059474</td>\n",
       "      <td>0</td>\n",
       "    </tr>\n",
       "    <tr>\n",
       "      <th>101</th>\n",
       "      <td>Seychelles</td>\n",
       "      <td>2020</td>\n",
       "      <td>0.090912</td>\n",
       "      <td>0.120555</td>\n",
       "      <td>0.074412</td>\n",
       "      <td>0.006790</td>\n",
       "      <td>0</td>\n",
       "    </tr>\n",
       "  </tbody>\n",
       "</table>\n",
       "</div>"
      ],
      "text/plain": [
       "                                     Country Name  Year  gdp_per_capita  \\\n",
       "37   Least developed countries: UN classification  2020        0.007021   \n",
       "50                     Middle East & North Africa  2020        0.054203   \n",
       "39                                      Sri Lanka  2020        0.029727   \n",
       "79                                     Tajikistan  2020        0.005356   \n",
       "101                                    Seychelles  2020        0.090912   \n",
       "\n",
       "     mortality_per_1000  co2_per_capita  arable_per_capita  labels  \n",
       "37             0.438611        0.003327           0.143292       0  \n",
       "50             0.129158        0.079652           0.127886       0  \n",
       "39             0.126148        0.008637           0.030123       0  \n",
       "79             0.340144        0.012422           0.059474       0  \n",
       "101            0.120555        0.074412           0.006790       0  "
      ]
     },
     "execution_count": 38,
     "metadata": {},
     "output_type": "execute_result"
    }
   ],
   "source": [
    "df_norm.sample(5)"
   ]
  },
  {
   "cell_type": "markdown",
   "id": "b5e3dd26",
   "metadata": {},
   "source": [
    "## Some visualizations to cross-check our labeled data of the year 2020."
   ]
  },
  {
   "cell_type": "code",
   "execution_count": 39,
   "id": "799ae3af",
   "metadata": {},
   "outputs": [
    {
     "data": {
      "image/png": "[encoded data removed]",
      "text/plain": [
       "<Figure size 1224x360 with 3 Axes>"
      ]
     },
     "metadata": {
      "needs_background": "light"
     },
     "output_type": "display_data"
    }
   ],
   "source": [
    "#Data Visualization of the Clustered Labels using Matplotlib library.\n",
    "\n",
    "fig, ax = plt.subplots(1,3, figsize=(17,5))  #Setting the size of subplots\n",
    "\n",
    "\n",
    "ax[0].bar(df_norm['labels'], df_norm['gdp_per_capita'], color='b', label='Gdp')\n",
    "\n",
    "ax[0].set_facecolor(\"#c2f2e4\") #Changing the background color\n",
    "\n",
    "ax[0].set_title(\"Cluster wise GDP Per Capita Proportion (2000) \")\n",
    "ax[0].set_xlabel(\"Cluster Label  \")\n",
    "ax[0].set_ylabel(\"GDP Per Capita  \")\n",
    "\n",
    "ax[1].bar(df_norm['labels'], df_norm['co2_per_capita'], color='r', label='Gdp')\n",
    "ax[1].set_facecolor(\"#c2f2e4\") #Changing the background color\n",
    "ax[1].set_title(\"Cluster wise CO2 Per Capita Proportion (2000) \")\n",
    "ax[1].set_xlabel(\"Cluster Label  \")\n",
    "ax[1].set_ylabel(\"CO2 Per Capita  \")\n",
    "\n",
    "ax[2].bar(df_norm['labels'], df_norm['mortality_per_1000'], color='g', label='Gdp')\n",
    "ax[2].set_facecolor(\"#c2f2e4\") #Changing the background color\n",
    "ax[2].set_title(\"Cluster wise Mortality per 1000 (2000) \")\n",
    "ax[2].set_xlabel(\"Cluster Label  \")\n",
    "ax[2].set_ylabel(\"Mortality Rate  \")\n",
    "\n",
    "plt.show()"
   ]
  },
  {
   "cell_type": "markdown",
   "id": "7f916858",
   "metadata": {},
   "source": [
    "## Checking the Countries in each cluster."
   ]
  },
  {
   "cell_type": "code",
   "execution_count": 40,
   "id": "1b4cbdbc",
   "metadata": {},
   "outputs": [
    {
     "data": {
      "text/html": [
       "<div>\n",
       "<style scoped>\n",
       "    .dataframe tbody tr th:only-of-type {\n",
       "        vertical-align: middle;\n",
       "    }\n",
       "\n",
       "    .dataframe tbody tr th {\n",
       "        vertical-align: top;\n",
       "    }\n",
       "\n",
       "    .dataframe thead th {\n",
       "        text-align: right;\n",
       "    }\n",
       "</style>\n",
       "<table border=\"1\" class=\"dataframe\">\n",
       "  <thead>\n",
       "    <tr style=\"text-align: right;\">\n",
       "      <th></th>\n",
       "      <th>Country Name</th>\n",
       "      <th>Year</th>\n",
       "      <th>gdp_per_capita</th>\n",
       "      <th>mortality_per_1000</th>\n",
       "      <th>co2_per_capita</th>\n",
       "      <th>arable_per_capita</th>\n",
       "      <th>labels</th>\n",
       "    </tr>\n",
       "  </thead>\n",
       "  <tbody>\n",
       "    <tr>\n",
       "      <th>0</th>\n",
       "      <td>Africa Eastern and Southern</td>\n",
       "      <td>2020</td>\n",
       "      <td>0.009654</td>\n",
       "      <td>0.591536</td>\n",
       "      <td>0.023173</td>\n",
       "      <td>0.151480</td>\n",
       "      <td>0</td>\n",
       "    </tr>\n",
       "    <tr>\n",
       "      <th>1</th>\n",
       "      <td>Mali</td>\n",
       "      <td>2020</td>\n",
       "      <td>0.005385</td>\n",
       "      <td>0.942736</td>\n",
       "      <td>0.001225</td>\n",
       "      <td>0.175744</td>\n",
       "      <td>0</td>\n",
       "    </tr>\n",
       "    <tr>\n",
       "      <th>2</th>\n",
       "      <td>Myanmar</td>\n",
       "      <td>2020</td>\n",
       "      <td>0.010612</td>\n",
       "      <td>0.407733</td>\n",
       "      <td>0.003302</td>\n",
       "      <td>0.141202</td>\n",
       "      <td>0</td>\n",
       "    </tr>\n",
       "    <tr>\n",
       "      <th>3</th>\n",
       "      <td>Middle East &amp; North Africa (excluding high inc...</td>\n",
       "      <td>2020</td>\n",
       "      <td>0.024007</td>\n",
       "      <td>0.139601</td>\n",
       "      <td>0.054228</td>\n",
       "      <td>0.134765</td>\n",
       "      <td>0</td>\n",
       "    </tr>\n",
       "    <tr>\n",
       "      <th>4</th>\n",
       "      <td>Montenegro</td>\n",
       "      <td>2020</td>\n",
       "      <td>0.064246</td>\n",
       "      <td>0.026267</td>\n",
       "      <td>0.038199</td>\n",
       "      <td>0.082321</td>\n",
       "      <td>0</td>\n",
       "    </tr>\n",
       "    <tr>\n",
       "      <th>5</th>\n",
       "      <td>Mongolia</td>\n",
       "      <td>2020</td>\n",
       "      <td>0.033012</td>\n",
       "      <td>0.291864</td>\n",
       "      <td>0.086599</td>\n",
       "      <td>0.306416</td>\n",
       "      <td>0</td>\n",
       "    </tr>\n",
       "    <tr>\n",
       "      <th>6</th>\n",
       "      <td>Mozambique</td>\n",
       "      <td>2020</td>\n",
       "      <td>0.001810</td>\n",
       "      <td>0.790452</td>\n",
       "      <td>0.003171</td>\n",
       "      <td>0.134360</td>\n",
       "      <td>0</td>\n",
       "    </tr>\n",
       "    <tr>\n",
       "      <th>7</th>\n",
       "      <td>Mauritania</td>\n",
       "      <td>2020</td>\n",
       "      <td>0.012637</td>\n",
       "      <td>0.548660</td>\n",
       "      <td>0.009841</td>\n",
       "      <td>0.091198</td>\n",
       "      <td>0</td>\n",
       "    </tr>\n",
       "    <tr>\n",
       "      <th>8</th>\n",
       "      <td>Mauritius</td>\n",
       "      <td>2020</td>\n",
       "      <td>0.072458</td>\n",
       "      <td>0.139283</td>\n",
       "      <td>0.030649</td>\n",
       "      <td>0.047805</td>\n",
       "      <td>0</td>\n",
       "    </tr>\n",
       "    <tr>\n",
       "      <th>9</th>\n",
       "      <td>Malawi</td>\n",
       "      <td>2020</td>\n",
       "      <td>0.003436</td>\n",
       "      <td>0.797106</td>\n",
       "      <td>0.001175</td>\n",
       "      <td>0.153037</td>\n",
       "      <td>0</td>\n",
       "    </tr>\n",
       "  </tbody>\n",
       "</table>\n",
       "</div>"
      ],
      "text/plain": [
       "                                        Country Name  Year  gdp_per_capita  \\\n",
       "0                        Africa Eastern and Southern  2020        0.009654   \n",
       "1                                               Mali  2020        0.005385   \n",
       "2                                            Myanmar  2020        0.010612   \n",
       "3  Middle East & North Africa (excluding high inc...  2020        0.024007   \n",
       "4                                         Montenegro  2020        0.064246   \n",
       "5                                           Mongolia  2020        0.033012   \n",
       "6                                         Mozambique  2020        0.001810   \n",
       "7                                         Mauritania  2020        0.012637   \n",
       "8                                          Mauritius  2020        0.072458   \n",
       "9                                             Malawi  2020        0.003436   \n",
       "\n",
       "   mortality_per_1000  co2_per_capita  arable_per_capita  labels  \n",
       "0            0.591536        0.023173           0.151480       0  \n",
       "1            0.942736        0.001225           0.175744       0  \n",
       "2            0.407733        0.003302           0.141202       0  \n",
       "3            0.139601        0.054228           0.134765       0  \n",
       "4            0.026267        0.038199           0.082321       0  \n",
       "5            0.291864        0.086599           0.306416       0  \n",
       "6            0.790452        0.003171           0.134360       0  \n",
       "7            0.548660        0.009841           0.091198       0  \n",
       "8            0.139283        0.030649           0.047805       0  \n",
       "9            0.797106        0.001175           0.153037       0  "
      ]
     },
     "execution_count": 40,
     "metadata": {},
     "output_type": "execute_result"
    }
   ],
   "source": [
    "check= df_norm[df_norm['labels'] == 0]\n",
    "check.head(10)"
   ]
  },
  {
   "cell_type": "code",
   "execution_count": 41,
   "id": "fe1de09f",
   "metadata": {},
   "outputs": [
    {
     "data": {
      "text/html": [
       "<div>\n",
       "<style scoped>\n",
       "    .dataframe tbody tr th:only-of-type {\n",
       "        vertical-align: middle;\n",
       "    }\n",
       "\n",
       "    .dataframe tbody tr th {\n",
       "        vertical-align: top;\n",
       "    }\n",
       "\n",
       "    .dataframe thead th {\n",
       "        text-align: right;\n",
       "    }\n",
       "</style>\n",
       "<table border=\"1\" class=\"dataframe\">\n",
       "  <thead>\n",
       "    <tr style=\"text-align: right;\">\n",
       "      <th></th>\n",
       "      <th>Year</th>\n",
       "      <th>gdp_per_capita</th>\n",
       "      <th>mortality_per_1000</th>\n",
       "      <th>co2_per_capita</th>\n",
       "      <th>arable_per_capita</th>\n",
       "      <th>labels</th>\n",
       "    </tr>\n",
       "  </thead>\n",
       "  <tbody>\n",
       "    <tr>\n",
       "      <th>Year</th>\n",
       "      <td>NaN</td>\n",
       "      <td>NaN</td>\n",
       "      <td>NaN</td>\n",
       "      <td>NaN</td>\n",
       "      <td>NaN</td>\n",
       "      <td>NaN</td>\n",
       "    </tr>\n",
       "    <tr>\n",
       "      <th>gdp_per_capita</th>\n",
       "      <td>NaN</td>\n",
       "      <td>1.000000</td>\n",
       "      <td>-0.669356</td>\n",
       "      <td>0.665655</td>\n",
       "      <td>-0.025263</td>\n",
       "      <td>NaN</td>\n",
       "    </tr>\n",
       "    <tr>\n",
       "      <th>mortality_per_1000</th>\n",
       "      <td>NaN</td>\n",
       "      <td>-0.669356</td>\n",
       "      <td>1.000000</td>\n",
       "      <td>-0.528274</td>\n",
       "      <td>0.134853</td>\n",
       "      <td>NaN</td>\n",
       "    </tr>\n",
       "    <tr>\n",
       "      <th>co2_per_capita</th>\n",
       "      <td>NaN</td>\n",
       "      <td>0.665655</td>\n",
       "      <td>-0.528274</td>\n",
       "      <td>1.000000</td>\n",
       "      <td>0.200124</td>\n",
       "      <td>NaN</td>\n",
       "    </tr>\n",
       "    <tr>\n",
       "      <th>arable_per_capita</th>\n",
       "      <td>NaN</td>\n",
       "      <td>-0.025263</td>\n",
       "      <td>0.134853</td>\n",
       "      <td>0.200124</td>\n",
       "      <td>1.000000</td>\n",
       "      <td>NaN</td>\n",
       "    </tr>\n",
       "    <tr>\n",
       "      <th>labels</th>\n",
       "      <td>NaN</td>\n",
       "      <td>NaN</td>\n",
       "      <td>NaN</td>\n",
       "      <td>NaN</td>\n",
       "      <td>NaN</td>\n",
       "      <td>NaN</td>\n",
       "    </tr>\n",
       "  </tbody>\n",
       "</table>\n",
       "</div>"
      ],
      "text/plain": [
       "                    Year  gdp_per_capita  mortality_per_1000  co2_per_capita  \\\n",
       "Year                 NaN             NaN                 NaN             NaN   \n",
       "gdp_per_capita       NaN        1.000000           -0.669356        0.665655   \n",
       "mortality_per_1000   NaN       -0.669356            1.000000       -0.528274   \n",
       "co2_per_capita       NaN        0.665655           -0.528274        1.000000   \n",
       "arable_per_capita    NaN       -0.025263            0.134853        0.200124   \n",
       "labels               NaN             NaN                 NaN             NaN   \n",
       "\n",
       "                    arable_per_capita  labels  \n",
       "Year                              NaN     NaN  \n",
       "gdp_per_capita              -0.025263     NaN  \n",
       "mortality_per_1000           0.134853     NaN  \n",
       "co2_per_capita               0.200124     NaN  \n",
       "arable_per_capita            1.000000     NaN  \n",
       "labels                            NaN     NaN  "
      ]
     },
     "execution_count": 41,
     "metadata": {},
     "output_type": "execute_result"
    }
   ],
   "source": [
    "## Chehcing the correlation of the dataframe,\n",
    "\n",
    "check.corr()"
   ]
  },
  {
   "cell_type": "code",
   "execution_count": 42,
   "id": "d8e34118",
   "metadata": {},
   "outputs": [
    {
     "data": {
      "text/html": [
       "<div>\n",
       "<style scoped>\n",
       "    .dataframe tbody tr th:only-of-type {\n",
       "        vertical-align: middle;\n",
       "    }\n",
       "\n",
       "    .dataframe tbody tr th {\n",
       "        vertical-align: top;\n",
       "    }\n",
       "\n",
       "    .dataframe thead th {\n",
       "        text-align: right;\n",
       "    }\n",
       "</style>\n",
       "<table border=\"1\" class=\"dataframe\">\n",
       "  <thead>\n",
       "    <tr style=\"text-align: right;\">\n",
       "      <th></th>\n",
       "      <th>Country Name</th>\n",
       "      <th>Year</th>\n",
       "      <th>gdp_per_capita</th>\n",
       "      <th>mortality_per_1000</th>\n",
       "      <th>co2_per_capita</th>\n",
       "      <th>arable_per_capita</th>\n",
       "      <th>labels</th>\n",
       "    </tr>\n",
       "  </thead>\n",
       "  <tbody>\n",
       "    <tr>\n",
       "      <th>191</th>\n",
       "      <td>North America</td>\n",
       "      <td>2020</td>\n",
       "      <td>0.527728</td>\n",
       "      <td>0.010099</td>\n",
       "      <td>0.405964</td>\n",
       "      <td>0.419151</td>\n",
       "      <td>1</td>\n",
       "    </tr>\n",
       "    <tr>\n",
       "      <th>192</th>\n",
       "      <td>Israel</td>\n",
       "      <td>2020</td>\n",
       "      <td>0.379440</td>\n",
       "      <td>0.039800</td>\n",
       "      <td>0.149358</td>\n",
       "      <td>0.038950</td>\n",
       "      <td>1</td>\n",
       "    </tr>\n",
       "    <tr>\n",
       "      <th>193</th>\n",
       "      <td>Japan</td>\n",
       "      <td>2020</td>\n",
       "      <td>0.345101</td>\n",
       "      <td>0.018763</td>\n",
       "      <td>0.172693</td>\n",
       "      <td>0.021109</td>\n",
       "      <td>1</td>\n",
       "    </tr>\n",
       "    <tr>\n",
       "      <th>194</th>\n",
       "      <td>Singapore</td>\n",
       "      <td>2020</td>\n",
       "      <td>0.514433</td>\n",
       "      <td>0.030676</td>\n",
       "      <td>0.193298</td>\n",
       "      <td>0.000000</td>\n",
       "      <td>1</td>\n",
       "    </tr>\n",
       "    <tr>\n",
       "      <th>195</th>\n",
       "      <td>Netherlands</td>\n",
       "      <td>2020</td>\n",
       "      <td>0.450510</td>\n",
       "      <td>0.016940</td>\n",
       "      <td>0.219244</td>\n",
       "      <td>0.031944</td>\n",
       "      <td>1</td>\n",
       "    </tr>\n",
       "    <tr>\n",
       "      <th>196</th>\n",
       "      <td>Belgium</td>\n",
       "      <td>2020</td>\n",
       "      <td>0.387995</td>\n",
       "      <td>0.029548</td>\n",
       "      <td>0.241824</td>\n",
       "      <td>0.045205</td>\n",
       "      <td>1</td>\n",
       "    </tr>\n",
       "    <tr>\n",
       "      <th>197</th>\n",
       "      <td>OECD members</td>\n",
       "      <td>2020</td>\n",
       "      <td>0.327696</td>\n",
       "      <td>0.027577</td>\n",
       "      <td>0.216046</td>\n",
       "      <td>0.197076</td>\n",
       "      <td>1</td>\n",
       "    </tr>\n",
       "    <tr>\n",
       "      <th>198</th>\n",
       "      <td>New Zealand</td>\n",
       "      <td>2020</td>\n",
       "      <td>0.355882</td>\n",
       "      <td>0.029755</td>\n",
       "      <td>0.141881</td>\n",
       "      <td>0.321150</td>\n",
       "      <td>1</td>\n",
       "    </tr>\n",
       "    <tr>\n",
       "      <th>199</th>\n",
       "      <td>Austria</td>\n",
       "      <td>2020</td>\n",
       "      <td>0.417599</td>\n",
       "      <td>0.036169</td>\n",
       "      <td>0.159325</td>\n",
       "      <td>0.098604</td>\n",
       "      <td>1</td>\n",
       "    </tr>\n",
       "    <tr>\n",
       "      <th>200</th>\n",
       "      <td>Australia</td>\n",
       "      <td>2020</td>\n",
       "      <td>0.444427</td>\n",
       "      <td>0.024122</td>\n",
       "      <td>0.322392</td>\n",
       "      <td>0.652297</td>\n",
       "      <td>1</td>\n",
       "    </tr>\n",
       "  </tbody>\n",
       "</table>\n",
       "</div>"
      ],
      "text/plain": [
       "      Country Name  Year  gdp_per_capita  mortality_per_1000  co2_per_capita  \\\n",
       "191  North America  2020        0.527728            0.010099        0.405964   \n",
       "192         Israel  2020        0.379440            0.039800        0.149358   \n",
       "193          Japan  2020        0.345101            0.018763        0.172693   \n",
       "194      Singapore  2020        0.514433            0.030676        0.193298   \n",
       "195    Netherlands  2020        0.450510            0.016940        0.219244   \n",
       "196        Belgium  2020        0.387995            0.029548        0.241824   \n",
       "197   OECD members  2020        0.327696            0.027577        0.216046   \n",
       "198    New Zealand  2020        0.355882            0.029755        0.141881   \n",
       "199        Austria  2020        0.417599            0.036169        0.159325   \n",
       "200      Australia  2020        0.444427            0.024122        0.322392   \n",
       "\n",
       "     arable_per_capita  labels  \n",
       "191           0.419151       1  \n",
       "192           0.038950       1  \n",
       "193           0.021109       1  \n",
       "194           0.000000       1  \n",
       "195           0.031944       1  \n",
       "196           0.045205       1  \n",
       "197           0.197076       1  \n",
       "198           0.321150       1  \n",
       "199           0.098604       1  \n",
       "200           0.652297       1  "
      ]
     },
     "execution_count": 42,
     "metadata": {},
     "output_type": "execute_result"
    }
   ],
   "source": [
    "check2= df_norm[df_norm['labels'] == 1]\n",
    "check2.head(10)"
   ]
  },
  {
   "cell_type": "code",
   "execution_count": 43,
   "id": "a198677b",
   "metadata": {},
   "outputs": [
    {
     "data": {
      "text/html": [
       "<div>\n",
       "<style scoped>\n",
       "    .dataframe tbody tr th:only-of-type {\n",
       "        vertical-align: middle;\n",
       "    }\n",
       "\n",
       "    .dataframe tbody tr th {\n",
       "        vertical-align: top;\n",
       "    }\n",
       "\n",
       "    .dataframe thead th {\n",
       "        text-align: right;\n",
       "    }\n",
       "</style>\n",
       "<table border=\"1\" class=\"dataframe\">\n",
       "  <thead>\n",
       "    <tr style=\"text-align: right;\">\n",
       "      <th></th>\n",
       "      <th>Country Name</th>\n",
       "      <th>Year</th>\n",
       "      <th>gdp_per_capita</th>\n",
       "      <th>mortality_per_1000</th>\n",
       "      <th>co2_per_capita</th>\n",
       "      <th>arable_per_capita</th>\n",
       "      <th>labels</th>\n",
       "    </tr>\n",
       "  </thead>\n",
       "  <tbody>\n",
       "    <tr>\n",
       "      <th>215</th>\n",
       "      <td>Luxembourg</td>\n",
       "      <td>2020</td>\n",
       "      <td>1.000000</td>\n",
       "      <td>0.026158</td>\n",
       "      <td>0.596273</td>\n",
       "      <td>0.064348</td>\n",
       "      <td>2</td>\n",
       "    </tr>\n",
       "    <tr>\n",
       "      <th>216</th>\n",
       "      <td>Switzerland</td>\n",
       "      <td>2020</td>\n",
       "      <td>0.750227</td>\n",
       "      <td>0.019897</td>\n",
       "      <td>0.127675</td>\n",
       "      <td>0.030124</td>\n",
       "      <td>2</td>\n",
       "    </tr>\n",
       "    <tr>\n",
       "      <th>217</th>\n",
       "      <td>Ireland</td>\n",
       "      <td>2020</td>\n",
       "      <td>0.734427</td>\n",
       "      <td>0.029475</td>\n",
       "      <td>0.176194</td>\n",
       "      <td>0.160204</td>\n",
       "      <td>2</td>\n",
       "    </tr>\n",
       "  </tbody>\n",
       "</table>\n",
       "</div>"
      ],
      "text/plain": [
       "    Country Name  Year  gdp_per_capita  mortality_per_1000  co2_per_capita  \\\n",
       "215   Luxembourg  2020        1.000000            0.026158        0.596273   \n",
       "216  Switzerland  2020        0.750227            0.019897        0.127675   \n",
       "217      Ireland  2020        0.734427            0.029475        0.176194   \n",
       "\n",
       "     arable_per_capita  labels  \n",
       "215           0.064348       2  \n",
       "216           0.030124       2  \n",
       "217           0.160204       2  "
      ]
     },
     "execution_count": 43,
     "metadata": {},
     "output_type": "execute_result"
    }
   ],
   "source": [
    "check3= df_norm[df_norm['labels'] == 2]\n",
    "check3.head(10)"
   ]
  },
  {
   "cell_type": "code",
   "execution_count": 44,
   "id": "93d15650",
   "metadata": {},
   "outputs": [
    {
     "data": {
      "text/html": [
       "<div>\n",
       "<style scoped>\n",
       "    .dataframe tbody tr th:only-of-type {\n",
       "        vertical-align: middle;\n",
       "    }\n",
       "\n",
       "    .dataframe tbody tr th {\n",
       "        vertical-align: top;\n",
       "    }\n",
       "\n",
       "    .dataframe thead th {\n",
       "        text-align: right;\n",
       "    }\n",
       "</style>\n",
       "<table border=\"1\" class=\"dataframe\">\n",
       "  <thead>\n",
       "    <tr style=\"text-align: right;\">\n",
       "      <th></th>\n",
       "      <th>Country Name</th>\n",
       "      <th>Year</th>\n",
       "      <th>gdp_per_capita</th>\n",
       "      <th>mortality_per_1000</th>\n",
       "      <th>co2_per_capita</th>\n",
       "      <th>arable_per_capita</th>\n",
       "      <th>labels</th>\n",
       "    </tr>\n",
       "  </thead>\n",
       "  <tbody>\n",
       "    <tr>\n",
       "      <th>218</th>\n",
       "      <td>Korea, Rep.</td>\n",
       "      <td>2020</td>\n",
       "      <td>0.271149</td>\n",
       "      <td>0.100344</td>\n",
       "      <td>0.133428</td>\n",
       "      <td>0.024736</td>\n",
       "      <td>3</td>\n",
       "    </tr>\n",
       "    <tr>\n",
       "      <th>219</th>\n",
       "      <td>United Arab Emirates</td>\n",
       "      <td>2020</td>\n",
       "      <td>0.311340</td>\n",
       "      <td>0.161202</td>\n",
       "      <td>0.665942</td>\n",
       "      <td>0.009321</td>\n",
       "      <td>3</td>\n",
       "    </tr>\n",
       "    <tr>\n",
       "      <th>220</th>\n",
       "      <td>Andorra</td>\n",
       "      <td>2020</td>\n",
       "      <td>0.191619</td>\n",
       "      <td>0.009878</td>\n",
       "      <td>0.147855</td>\n",
       "      <td>0.012570</td>\n",
       "      <td>3</td>\n",
       "    </tr>\n",
       "    <tr>\n",
       "      <th>221</th>\n",
       "      <td>Kuwait</td>\n",
       "      <td>2020</td>\n",
       "      <td>0.212245</td>\n",
       "      <td>0.124139</td>\n",
       "      <td>0.577598</td>\n",
       "      <td>0.000971</td>\n",
       "      <td>3</td>\n",
       "    </tr>\n",
       "    <tr>\n",
       "      <th>222</th>\n",
       "      <td>Italy</td>\n",
       "      <td>2020</td>\n",
       "      <td>0.271864</td>\n",
       "      <td>0.042063</td>\n",
       "      <td>0.136261</td>\n",
       "      <td>0.084919</td>\n",
       "      <td>3</td>\n",
       "    </tr>\n",
       "    <tr>\n",
       "      <th>223</th>\n",
       "      <td>Spain</td>\n",
       "      <td>2020</td>\n",
       "      <td>0.231691</td>\n",
       "      <td>0.011794</td>\n",
       "      <td>0.113398</td>\n",
       "      <td>0.199587</td>\n",
       "      <td>3</td>\n",
       "    </tr>\n",
       "    <tr>\n",
       "      <th>224</th>\n",
       "      <td>Brunei Darussalam</td>\n",
       "      <td>2020</td>\n",
       "      <td>0.234971</td>\n",
       "      <td>0.089759</td>\n",
       "      <td>0.430055</td>\n",
       "      <td>0.009309</td>\n",
       "      <td>3</td>\n",
       "    </tr>\n",
       "    <tr>\n",
       "      <th>225</th>\n",
       "      <td>Malta</td>\n",
       "      <td>2020</td>\n",
       "      <td>0.238786</td>\n",
       "      <td>0.041028</td>\n",
       "      <td>0.093395</td>\n",
       "      <td>0.016459</td>\n",
       "      <td>3</td>\n",
       "    </tr>\n",
       "    <tr>\n",
       "      <th>226</th>\n",
       "      <td>Cyprus</td>\n",
       "      <td>2020</td>\n",
       "      <td>0.227896</td>\n",
       "      <td>0.024491</td>\n",
       "      <td>0.112554</td>\n",
       "      <td>0.113470</td>\n",
       "      <td>3</td>\n",
       "    </tr>\n",
       "    <tr>\n",
       "      <th>227</th>\n",
       "      <td>Czech Republic</td>\n",
       "      <td>2020</td>\n",
       "      <td>0.196010</td>\n",
       "      <td>0.008052</td>\n",
       "      <td>0.249827</td>\n",
       "      <td>0.154928</td>\n",
       "      <td>3</td>\n",
       "    </tr>\n",
       "  </tbody>\n",
       "</table>\n",
       "</div>"
      ],
      "text/plain": [
       "             Country Name  Year  gdp_per_capita  mortality_per_1000  \\\n",
       "218           Korea, Rep.  2020        0.271149            0.100344   \n",
       "219  United Arab Emirates  2020        0.311340            0.161202   \n",
       "220               Andorra  2020        0.191619            0.009878   \n",
       "221                Kuwait  2020        0.212245            0.124139   \n",
       "222                 Italy  2020        0.271864            0.042063   \n",
       "223                 Spain  2020        0.231691            0.011794   \n",
       "224     Brunei Darussalam  2020        0.234971            0.089759   \n",
       "225                 Malta  2020        0.238786            0.041028   \n",
       "226                Cyprus  2020        0.227896            0.024491   \n",
       "227        Czech Republic  2020        0.196010            0.008052   \n",
       "\n",
       "     co2_per_capita  arable_per_capita  labels  \n",
       "218        0.133428           0.024736       3  \n",
       "219        0.665942           0.009321       3  \n",
       "220        0.147855           0.012570       3  \n",
       "221        0.577598           0.000971       3  \n",
       "222        0.136261           0.084919       3  \n",
       "223        0.113398           0.199587       3  \n",
       "224        0.430055           0.009309       3  \n",
       "225        0.093395           0.016459       3  \n",
       "226        0.112554           0.113470       3  \n",
       "227        0.249827           0.154928       3  "
      ]
     },
     "execution_count": 44,
     "metadata": {},
     "output_type": "execute_result"
    }
   ],
   "source": [
    "check4= df_norm[df_norm['labels'] == 3]\n",
    "check4.head(10)"
   ]
  },
  {
   "cell_type": "code",
   "execution_count": 45,
   "id": "2355a8a1",
   "metadata": {},
   "outputs": [
    {
     "data": {
      "text/plain": [
       "4"
      ]
     },
     "execution_count": 45,
     "metadata": {},
     "output_type": "execute_result"
    }
   ],
   "source": [
    "df_norm.labels.nunique()"
   ]
  },
  {
   "cell_type": "markdown",
   "id": "ca74c7f6",
   "metadata": {},
   "source": [
    "## Now checking the clusters 30 years ago, let's look at 1990 values"
   ]
  },
  {
   "cell_type": "code",
   "execution_count": 46,
   "id": "56438555",
   "metadata": {},
   "outputs": [
    {
     "name": "stderr",
     "output_type": "stream",
     "text": [
      "<ipython-input-30-bdc457f01d40>:24: SettingWithCopyWarning: \n",
      "A value is trying to be set on a copy of a slice from a DataFrame.\n",
      "Try using .loc[row_indexer,col_indexer] = value instead\n",
      "\n",
      "See the caveats in the documentation: https://pandas.pydata.org/pandas-docs/stable/user_guide/indexing.html#returning-a-view-versus-a-copy\n",
      "  df[col] = norm(df[col])\n"
     ]
    }
   ],
   "source": [
    "other_df2= data[data['Year'] == 1990]\n",
    "\n",
    "df_norm2=  norm_df(other_df2)"
   ]
  },
  {
   "cell_type": "code",
   "execution_count": 47,
   "id": "c2b0ec83",
   "metadata": {},
   "outputs": [
    {
     "data": {
      "image/png": "[encoded data removed]",
      "text/plain": [
       "<Figure size 360x360 with 1 Axes>"
      ]
     },
     "metadata": {
      "needs_background": "light"
     },
     "output_type": "display_data"
    },
    {
     "data": {
      "image/png": "[encoded data removed]",
      "text/plain": [
       "<Figure size 360x360 with 1 Axes>"
      ]
     },
     "metadata": {
      "needs_background": "light"
     },
     "output_type": "display_data"
    },
    {
     "data": {
      "image/png": "[encoded data removed]",
      "text/plain": [
       "<Figure size 360x360 with 1 Axes>"
      ]
     },
     "metadata": {
      "needs_background": "light"
     },
     "output_type": "display_data"
    },
    {
     "data": {
      "image/png": "[encoded data removed]",
      "text/plain": [
       "<Figure size 360x360 with 1 Axes>"
      ]
     },
     "metadata": {
      "needs_background": "light"
     },
     "output_type": "display_data"
    },
    {
     "data": {
      "image/png": "[encoded data removed]",
      "text/plain": [
       "<Figure size 360x360 with 1 Axes>"
      ]
     },
     "metadata": {
      "needs_background": "light"
     },
     "output_type": "display_data"
    },
    {
     "data": {
      "image/png": "[encoded data removed]",
      "text/plain": [
       "<Figure size 360x360 with 1 Axes>"
      ]
     },
     "metadata": {
      "needs_background": "light"
     },
     "output_type": "display_data"
    },
    {
     "data": {
      "image/png": "[encoded data removed]",
      "text/plain": [
       "<Figure size 360x360 with 1 Axes>"
      ]
     },
     "metadata": {
      "needs_background": "light"
     },
     "output_type": "display_data"
    },
    {
     "data": {
      "image/png": "[encoded data removed]",
      "text/plain": [
       "<Figure size 360x360 with 1 Axes>"
      ]
     },
     "metadata": {
      "needs_background": "light"
     },
     "output_type": "display_data"
    },
    {
     "data": {
      "image/png": "[encoded data removed]",
      "text/plain": [
       "<Figure size 360x360 with 1 Axes>"
      ]
     },
     "metadata": {
      "needs_background": "light"
     },
     "output_type": "display_data"
    },
    {
     "data": {
      "image/png": "[encoded data removed]",
      "text/plain": [
       "<Figure size 360x360 with 1 Axes>"
      ]
     },
     "metadata": {
      "needs_background": "light"
     },
     "output_type": "display_data"
    }
   ],
   "source": [
    "def makeplot(df, col1, col2):\n",
    "    \n",
    "    plt.figure(figsize=(5,5))\n",
    "    plt.plot(df[col1], df[col2], \"o\", markersize=3)\n",
    "    \n",
    "    plt.xlabel(col1)\n",
    "    plt.ylabel(col2)\n",
    "    plt.show()\n",
    "    \n",
    "    \n",
    "# exploratory plots\n",
    "makeplot(df_norm2, \"gdp_per_capita\", \"co2_per_capita\")\n",
    "makeplot(df_norm2, \"gdp_per_capita\", \"mortality_per_1000\")\n",
    "makeplot(df_norm2, \"gdp_per_capita\", \"arable_per_capita\")\n",
    "\n",
    "makeplot(df_norm2, \"mortality_per_1000\", \"co2_per_capita\")\n",
    "makeplot(df_norm2, \"arable_per_capita\", \"mortality_per_1000\")\n",
    "makeplot(df_norm2, \"mortality_per_1000\", \"arable_per_capita\")\n",
    "\n",
    "makeplot(df_norm2, \"Year\", \"co2_per_capita\")\n",
    "makeplot(df_norm2, \"Year\", \"mortality_per_1000\")\n",
    "makeplot(df_norm2, \"Year\", \"arable_per_capita\")\n",
    "makeplot(df_norm2, \"Year\", \"gdp_per_capita\")"
   ]
  },
  {
   "cell_type": "code",
   "execution_count": 48,
   "id": "bb099f01",
   "metadata": {},
   "outputs": [
    {
     "data": {
      "image/png": "[encoded data removed]",
      "text/plain": [
       "<Figure size 360x360 with 1 Axes>"
      ]
     },
     "metadata": {
      "needs_background": "light"
     },
     "output_type": "display_data"
    }
   ],
   "source": [
    "####### kmeans set up the clusterer, 5 expected clusters\n",
    "kmeans = cluster.KMeans(n_clusters=4)\n",
    "\n",
    "# extract columns for fitting\n",
    "df_fit2 = df_norm2[[\"Year\", \"gdp_per_capita\"]].copy()\n",
    "kmeans.fit(df_fit2)     \n",
    "\n",
    "# extract labels and cluster centres\n",
    "labels = kmeans.labels_\n",
    "cen = kmeans.cluster_centers_\n",
    "\n",
    "# plot using the labels to select colour\n",
    "plt.figure(figsize=(5.0,5.0))\n",
    "\n",
    "col = [\"blue\", \"red\", \"green\", \"magenta\"]\n",
    "for l in range(4):     # loop over the different labels\n",
    "    plt.plot(df_fit2[\"Year\"][labels==l], df_fit2[\"gdp_per_capita\"][labels==l], \"o\", markersize=3, color=col[l])\n",
    "    \n",
    "# show cluster centres\n",
    "for ic in range(4):\n",
    "    xc, yc = cen[ic,:]\n",
    "    plt.plot(xc, yc, \"dk\", markersize=10)\n",
    "    \n",
    "plt.xlabel(\"Year\")\n",
    "plt.ylabel(\"gdp_per_capita\")\n",
    "plt.show()"
   ]
  },
  {
   "cell_type": "code",
   "execution_count": 49,
   "id": "4bdaf35d",
   "metadata": {},
   "outputs": [
    {
     "data": {
      "image/png": "[encoded data removed]",
      "text/plain": [
       "<Figure size 360x360 with 1 Axes>"
      ]
     },
     "metadata": {
      "needs_background": "light"
     },
     "output_type": "display_data"
    },
    {
     "name": "stderr",
     "output_type": "stream",
     "text": [
      "<ipython-input-49-6278a186cace>:35: SettingWithCopyWarning: \n",
      "A value is trying to be set on a copy of a slice from a DataFrame.\n",
      "Try using .loc[row_indexer,col_indexer] = value instead\n",
      "\n",
      "See the caveats in the documentation: https://pandas.pydata.org/pandas-docs/stable/user_guide/indexing.html#returning-a-view-versus-a-copy\n",
      "  df_norm2[\"labels\"] = labels\n"
     ]
    }
   ],
   "source": [
    "##### Now the agglomerative clustering for 4 clusters\n",
    "ac = cluster.AgglomerativeClustering(n_clusters=4)\n",
    "\n",
    "# carry out the fitting\n",
    "ac.fit(df_fit2)\n",
    "\n",
    "labels = ac.labels_\n",
    "\n",
    "# The clusterer does not return cluster centres, but they are easily computed\n",
    "xcen = []\n",
    "ycen = []\n",
    "for ic in range(4):\n",
    "    xc = np.average(df_fit2[\"Year\"][labels==ic])\n",
    "    yc = np.average(df_fit2[\"gdp_per_capita\"][labels==ic])\n",
    "    xcen.append(xc)\n",
    "    ycen.append(yc)\n",
    "\n",
    "# plot using the labels to select colour\n",
    "plt.figure(figsize=(5.0,5.0))\n",
    "\n",
    "col = [\"blue\", \"red\", \"green\", \"magenta\"]\n",
    "for l in range(0,4):     # loop over the different labels\n",
    "    plt.plot(df_fit2[\"Year\"][labels==l], df_fit2[\"gdp_per_capita\"][labels==l], \"o\", markersize=3, color=col[l])\n",
    "    \n",
    "# show cluster centres\n",
    "for ic in range(4):\n",
    "    plt.plot(xcen[ic], ycen[ic], \"dk\", markersize=10)\n",
    "    \n",
    "plt.xlabel(\"Year\")\n",
    "plt.ylabel(\"gdp_per_capita\")\n",
    "plt.show()\n",
    "\n",
    "\n",
    "###### writing labels into df_fish, sorting and exporting as excel file\n",
    "df_norm2[\"labels\"] = labels\n",
    "df_norm2 = df_norm2.sort_values([\"labels\"], ignore_index=True)"
   ]
  },
  {
   "cell_type": "code",
   "execution_count": 50,
   "id": "626d2d52",
   "metadata": {},
   "outputs": [
    {
     "data": {
      "text/html": [
       "<div>\n",
       "<style scoped>\n",
       "    .dataframe tbody tr th:only-of-type {\n",
       "        vertical-align: middle;\n",
       "    }\n",
       "\n",
       "    .dataframe tbody tr th {\n",
       "        vertical-align: top;\n",
       "    }\n",
       "\n",
       "    .dataframe thead th {\n",
       "        text-align: right;\n",
       "    }\n",
       "</style>\n",
       "<table border=\"1\" class=\"dataframe\">\n",
       "  <thead>\n",
       "    <tr style=\"text-align: right;\">\n",
       "      <th></th>\n",
       "      <th>Country Name</th>\n",
       "      <th>Year</th>\n",
       "      <th>gdp_per_capita</th>\n",
       "      <th>mortality_per_1000</th>\n",
       "      <th>co2_per_capita</th>\n",
       "      <th>arable_per_capita</th>\n",
       "      <th>labels</th>\n",
       "    </tr>\n",
       "  </thead>\n",
       "  <tbody>\n",
       "    <tr>\n",
       "      <th>51</th>\n",
       "      <td>Mexico</td>\n",
       "      <td>1990</td>\n",
       "      <td>0.076357</td>\n",
       "      <td>0.121005</td>\n",
       "      <td>0.105253</td>\n",
       "      <td>0.135812</td>\n",
       "      <td>0</td>\n",
       "    </tr>\n",
       "    <tr>\n",
       "      <th>144</th>\n",
       "      <td>Bulgaria</td>\n",
       "      <td>1990</td>\n",
       "      <td>0.057484</td>\n",
       "      <td>0.037543</td>\n",
       "      <td>0.278471</td>\n",
       "      <td>0.232390</td>\n",
       "      <td>0</td>\n",
       "    </tr>\n",
       "    <tr>\n",
       "      <th>195</th>\n",
       "      <td>Bahamas, The</td>\n",
       "      <td>1990</td>\n",
       "      <td>0.310307</td>\n",
       "      <td>0.053366</td>\n",
       "      <td>0.229280</td>\n",
       "      <td>0.016245</td>\n",
       "      <td>2</td>\n",
       "    </tr>\n",
       "    <tr>\n",
       "      <th>41</th>\n",
       "      <td>Low income</td>\n",
       "      <td>1990</td>\n",
       "      <td>0.007227</td>\n",
       "      <td>0.546696</td>\n",
       "      <td>0.021561</td>\n",
       "      <td>0.156254</td>\n",
       "      <td>0</td>\n",
       "    </tr>\n",
       "    <tr>\n",
       "      <th>31</th>\n",
       "      <td>St. Kitts and Nevis</td>\n",
       "      <td>1990</td>\n",
       "      <td>0.134165</td>\n",
       "      <td>0.075085</td>\n",
       "      <td>0.090176</td>\n",
       "      <td>0.104312</td>\n",
       "      <td>0</td>\n",
       "    </tr>\n",
       "    <tr>\n",
       "      <th>71</th>\n",
       "      <td>Venezuela, RB</td>\n",
       "      <td>1990</td>\n",
       "      <td>0.060239</td>\n",
       "      <td>0.071983</td>\n",
       "      <td>0.173354</td>\n",
       "      <td>0.075676</td>\n",
       "      <td>0</td>\n",
       "    </tr>\n",
       "    <tr>\n",
       "      <th>53</th>\n",
       "      <td>Pre-demographic dividend</td>\n",
       "      <td>1990</td>\n",
       "      <td>0.020178</td>\n",
       "      <td>0.551479</td>\n",
       "      <td>0.014636</td>\n",
       "      <td>0.169841</td>\n",
       "      <td>0</td>\n",
       "    </tr>\n",
       "    <tr>\n",
       "      <th>167</th>\n",
       "      <td>IBRD only</td>\n",
       "      <td>1990</td>\n",
       "      <td>0.023226</td>\n",
       "      <td>0.222661</td>\n",
       "      <td>0.084865</td>\n",
       "      <td>0.093735</td>\n",
       "      <td>0</td>\n",
       "    </tr>\n",
       "    <tr>\n",
       "      <th>46</th>\n",
       "      <td>Late-demographic dividend</td>\n",
       "      <td>1990</td>\n",
       "      <td>0.024246</td>\n",
       "      <td>0.136291</td>\n",
       "      <td>0.112477</td>\n",
       "      <td>0.078729</td>\n",
       "      <td>0</td>\n",
       "    </tr>\n",
       "    <tr>\n",
       "      <th>117</th>\n",
       "      <td>Caribbean small states</td>\n",
       "      <td>1990</td>\n",
       "      <td>0.073448</td>\n",
       "      <td>0.088646</td>\n",
       "      <td>0.155595</td>\n",
       "      <td>0.069214</td>\n",
       "      <td>0</td>\n",
       "    </tr>\n",
       "  </tbody>\n",
       "</table>\n",
       "</div>"
      ],
      "text/plain": [
       "                  Country Name  Year  gdp_per_capita  mortality_per_1000  \\\n",
       "51                      Mexico  1990        0.076357            0.121005   \n",
       "144                   Bulgaria  1990        0.057484            0.037543   \n",
       "195               Bahamas, The  1990        0.310307            0.053366   \n",
       "41                  Low income  1990        0.007227            0.546696   \n",
       "31         St. Kitts and Nevis  1990        0.134165            0.075085   \n",
       "71               Venezuela, RB  1990        0.060239            0.071983   \n",
       "53    Pre-demographic dividend  1990        0.020178            0.551479   \n",
       "167                  IBRD only  1990        0.023226            0.222661   \n",
       "46   Late-demographic dividend  1990        0.024246            0.136291   \n",
       "117     Caribbean small states  1990        0.073448            0.088646   \n",
       "\n",
       "     co2_per_capita  arable_per_capita  labels  \n",
       "51         0.105253           0.135812       0  \n",
       "144        0.278471           0.232390       0  \n",
       "195        0.229280           0.016245       2  \n",
       "41         0.021561           0.156254       0  \n",
       "31         0.090176           0.104312       0  \n",
       "71         0.173354           0.075676       0  \n",
       "53         0.014636           0.169841       0  \n",
       "167        0.084865           0.093735       0  \n",
       "46         0.112477           0.078729       0  \n",
       "117        0.155595           0.069214       0  "
      ]
     },
     "execution_count": 50,
     "metadata": {},
     "output_type": "execute_result"
    }
   ],
   "source": [
    "df_norm2.sample(10)"
   ]
  },
  {
   "cell_type": "code",
   "execution_count": 51,
   "id": "30ff0918",
   "metadata": {},
   "outputs": [
    {
     "data": {
      "image/png": "[encoded data removed]",
      "text/plain": [
       "<Figure size 1224x360 with 3 Axes>"
      ]
     },
     "metadata": {
      "needs_background": "light"
     },
     "output_type": "display_data"
    }
   ],
   "source": [
    "fig, ax = plt.subplots(1,3, figsize=(17,5))  #Setting the size of subplots\n",
    "\n",
    "\n",
    "ax[0].bar(df_norm2['labels'], df_norm2['gdp_per_capita'], color='b', label='Gdp')\n",
    "\n",
    "ax[0].set_facecolor(\"#c2f2e4\") #Changing the background color\n",
    "\n",
    "ax[0].set_title(\"Cluster wise GDP Per Capita Proportion (1990) \")\n",
    "ax[0].set_xlabel(\"Cluster Label  \")\n",
    "ax[0].set_ylabel(\"GDP Per Capita  \")\n",
    "\n",
    "ax[1].bar(df_norm2['labels'], df_norm2['co2_per_capita'], color='r', label='Gdp')\n",
    "ax[1].set_facecolor(\"#c2f2e4\") #Changing the background color\n",
    "ax[1].set_title(\"Cluster wise CO2 Per Capita Proportion (1990)\")\n",
    "ax[1].set_xlabel(\"Cluster Label  \")\n",
    "ax[1].set_ylabel(\"CO2 Per Capita  \")\n",
    "\n",
    "ax[2].bar(df_norm2['labels'], df_norm2['mortality_per_1000'], color='g', label='Gdp')\n",
    "ax[2].set_facecolor(\"#c2f2e4\") #Changing the background color\n",
    "ax[2].set_title(\"Cluster wise Mortality per 1000  (1990)\")\n",
    "ax[2].set_xlabel(\"Cluster Label  \")\n",
    "ax[2].set_ylabel(\"Mortality Rate  \")\n",
    "\n",
    "plt.show()"
   ]
  },
  {
   "cell_type": "markdown",
   "id": "9241e699",
   "metadata": {},
   "source": [
    "## Checking the countries in clusters formed on the year 1990"
   ]
  },
  {
   "cell_type": "code",
   "execution_count": 52,
   "id": "146c5ee0",
   "metadata": {},
   "outputs": [
    {
     "data": {
      "text/html": [
       "<div>\n",
       "<style scoped>\n",
       "    .dataframe tbody tr th:only-of-type {\n",
       "        vertical-align: middle;\n",
       "    }\n",
       "\n",
       "    .dataframe tbody tr th {\n",
       "        vertical-align: top;\n",
       "    }\n",
       "\n",
       "    .dataframe thead th {\n",
       "        text-align: right;\n",
       "    }\n",
       "</style>\n",
       "<table border=\"1\" class=\"dataframe\">\n",
       "  <thead>\n",
       "    <tr style=\"text-align: right;\">\n",
       "      <th></th>\n",
       "      <th>Country Name</th>\n",
       "      <th>Year</th>\n",
       "      <th>gdp_per_capita</th>\n",
       "      <th>mortality_per_1000</th>\n",
       "      <th>co2_per_capita</th>\n",
       "      <th>arable_per_capita</th>\n",
       "      <th>labels</th>\n",
       "    </tr>\n",
       "  </thead>\n",
       "  <tbody>\n",
       "    <tr>\n",
       "      <th>0</th>\n",
       "      <td>Africa Eastern and Southern</td>\n",
       "      <td>1990</td>\n",
       "      <td>0.015218</td>\n",
       "      <td>0.491724</td>\n",
       "      <td>0.033582</td>\n",
       "      <td>0.134547</td>\n",
       "      <td>0</td>\n",
       "    </tr>\n",
       "    <tr>\n",
       "      <th>1</th>\n",
       "      <td>North Macedonia</td>\n",
       "      <td>1990</td>\n",
       "      <td>0.057174</td>\n",
       "      <td>0.091219</td>\n",
       "      <td>0.142022</td>\n",
       "      <td>0.127155</td>\n",
       "      <td>0</td>\n",
       "    </tr>\n",
       "    <tr>\n",
       "      <th>2</th>\n",
       "      <td>Mali</td>\n",
       "      <td>1990</td>\n",
       "      <td>0.005624</td>\n",
       "      <td>0.694074</td>\n",
       "      <td>0.001640</td>\n",
       "      <td>0.127580</td>\n",
       "      <td>0</td>\n",
       "    </tr>\n",
       "    <tr>\n",
       "      <th>3</th>\n",
       "      <td>Myanmar</td>\n",
       "      <td>1990</td>\n",
       "      <td>0.010588</td>\n",
       "      <td>0.336022</td>\n",
       "      <td>0.003346</td>\n",
       "      <td>0.121527</td>\n",
       "      <td>0</td>\n",
       "    </tr>\n",
       "    <tr>\n",
       "      <th>4</th>\n",
       "      <td>Middle East &amp; North Africa (excluding high inc...</td>\n",
       "      <td>1990</td>\n",
       "      <td>0.054317</td>\n",
       "      <td>0.192388</td>\n",
       "      <td>0.076726</td>\n",
       "      <td>0.115691</td>\n",
       "      <td>0</td>\n",
       "    </tr>\n",
       "    <tr>\n",
       "      <th>5</th>\n",
       "      <td>Montenegro</td>\n",
       "      <td>1990</td>\n",
       "      <td>0.144517</td>\n",
       "      <td>0.031648</td>\n",
       "      <td>0.000000</td>\n",
       "      <td>0.082505</td>\n",
       "      <td>0</td>\n",
       "    </tr>\n",
       "    <tr>\n",
       "      <th>6</th>\n",
       "      <td>Mongolia</td>\n",
       "      <td>1990</td>\n",
       "      <td>0.027264</td>\n",
       "      <td>0.315855</td>\n",
       "      <td>0.195988</td>\n",
       "      <td>0.329645</td>\n",
       "      <td>0</td>\n",
       "    </tr>\n",
       "    <tr>\n",
       "      <th>7</th>\n",
       "      <td>Mozambique</td>\n",
       "      <td>1990</td>\n",
       "      <td>0.007933</td>\n",
       "      <td>0.734719</td>\n",
       "      <td>0.002846</td>\n",
       "      <td>0.139507</td>\n",
       "      <td>0</td>\n",
       "    </tr>\n",
       "    <tr>\n",
       "      <th>8</th>\n",
       "      <td>Mauritania</td>\n",
       "      <td>1990</td>\n",
       "      <td>0.016338</td>\n",
       "      <td>0.345641</td>\n",
       "      <td>0.013628</td>\n",
       "      <td>0.103215</td>\n",
       "      <td>0</td>\n",
       "    </tr>\n",
       "    <tr>\n",
       "      <th>9</th>\n",
       "      <td>Mauritius</td>\n",
       "      <td>1990</td>\n",
       "      <td>0.061018</td>\n",
       "      <td>0.051815</td>\n",
       "      <td>0.036160</td>\n",
       "      <td>0.048497</td>\n",
       "      <td>0</td>\n",
       "    </tr>\n",
       "  </tbody>\n",
       "</table>\n",
       "</div>"
      ],
      "text/plain": [
       "                                        Country Name  Year  gdp_per_capita  \\\n",
       "0                        Africa Eastern and Southern  1990        0.015218   \n",
       "1                                    North Macedonia  1990        0.057174   \n",
       "2                                               Mali  1990        0.005624   \n",
       "3                                            Myanmar  1990        0.010588   \n",
       "4  Middle East & North Africa (excluding high inc...  1990        0.054317   \n",
       "5                                         Montenegro  1990        0.144517   \n",
       "6                                           Mongolia  1990        0.027264   \n",
       "7                                         Mozambique  1990        0.007933   \n",
       "8                                         Mauritania  1990        0.016338   \n",
       "9                                          Mauritius  1990        0.061018   \n",
       "\n",
       "   mortality_per_1000  co2_per_capita  arable_per_capita  labels  \n",
       "0            0.491724        0.033582           0.134547       0  \n",
       "1            0.091219        0.142022           0.127155       0  \n",
       "2            0.694074        0.001640           0.127580       0  \n",
       "3            0.336022        0.003346           0.121527       0  \n",
       "4            0.192388        0.076726           0.115691       0  \n",
       "5            0.031648        0.000000           0.082505       0  \n",
       "6            0.315855        0.195988           0.329645       0  \n",
       "7            0.734719        0.002846           0.139507       0  \n",
       "8            0.345641        0.013628           0.103215       0  \n",
       "9            0.051815        0.036160           0.048497       0  "
      ]
     },
     "execution_count": 52,
     "metadata": {},
     "output_type": "execute_result"
    }
   ],
   "source": [
    "check1= df_norm2[df_norm2['labels'] == 0]\n",
    "check1.head(10)"
   ]
  },
  {
   "cell_type": "code",
   "execution_count": 53,
   "id": "c45c79b9",
   "metadata": {},
   "outputs": [
    {
     "data": {
      "text/html": [
       "<div>\n",
       "<style scoped>\n",
       "    .dataframe tbody tr th:only-of-type {\n",
       "        vertical-align: middle;\n",
       "    }\n",
       "\n",
       "    .dataframe tbody tr th {\n",
       "        vertical-align: top;\n",
       "    }\n",
       "\n",
       "    .dataframe thead th {\n",
       "        text-align: right;\n",
       "    }\n",
       "</style>\n",
       "<table border=\"1\" class=\"dataframe\">\n",
       "  <thead>\n",
       "    <tr style=\"text-align: right;\">\n",
       "      <th></th>\n",
       "      <th>Country Name</th>\n",
       "      <th>Year</th>\n",
       "      <th>gdp_per_capita</th>\n",
       "      <th>mortality_per_1000</th>\n",
       "      <th>co2_per_capita</th>\n",
       "      <th>arable_per_capita</th>\n",
       "      <th>labels</th>\n",
       "    </tr>\n",
       "  </thead>\n",
       "  <tbody>\n",
       "    <tr>\n",
       "      <th>182</th>\n",
       "      <td>Luxembourg</td>\n",
       "      <td>1990</td>\n",
       "      <td>0.844547</td>\n",
       "      <td>0.007446</td>\n",
       "      <td>0.978417</td>\n",
       "      <td>0.064536</td>\n",
       "      <td>1</td>\n",
       "    </tr>\n",
       "    <tr>\n",
       "      <th>183</th>\n",
       "      <td>Sweden</td>\n",
       "      <td>1990</td>\n",
       "      <td>0.771867</td>\n",
       "      <td>0.002172</td>\n",
       "      <td>0.205726</td>\n",
       "      <td>0.174366</td>\n",
       "      <td>1</td>\n",
       "    </tr>\n",
       "    <tr>\n",
       "      <th>184</th>\n",
       "      <td>Switzerland</td>\n",
       "      <td>1990</td>\n",
       "      <td>1.000000</td>\n",
       "      <td>0.005895</td>\n",
       "      <td>0.212951</td>\n",
       "      <td>0.031437</td>\n",
       "      <td>1</td>\n",
       "    </tr>\n",
       "    <tr>\n",
       "      <th>185</th>\n",
       "      <td>Norway</td>\n",
       "      <td>1990</td>\n",
       "      <td>0.712374</td>\n",
       "      <td>0.007446</td>\n",
       "      <td>0.227215</td>\n",
       "      <td>0.106442</td>\n",
       "      <td>1</td>\n",
       "    </tr>\n",
       "    <tr>\n",
       "      <th>186</th>\n",
       "      <td>Iceland</td>\n",
       "      <td>1990</td>\n",
       "      <td>0.640042</td>\n",
       "      <td>0.000621</td>\n",
       "      <td>0.252558</td>\n",
       "      <td>0.280454</td>\n",
       "      <td>1</td>\n",
       "    </tr>\n",
       "  </tbody>\n",
       "</table>\n",
       "</div>"
      ],
      "text/plain": [
       "    Country Name  Year  gdp_per_capita  mortality_per_1000  co2_per_capita  \\\n",
       "182   Luxembourg  1990        0.844547            0.007446        0.978417   \n",
       "183       Sweden  1990        0.771867            0.002172        0.205726   \n",
       "184  Switzerland  1990        1.000000            0.005895        0.212951   \n",
       "185       Norway  1990        0.712374            0.007446        0.227215   \n",
       "186      Iceland  1990        0.640042            0.000621        0.252558   \n",
       "\n",
       "     arable_per_capita  labels  \n",
       "182           0.064536       1  \n",
       "183           0.174366       1  \n",
       "184           0.031437       1  \n",
       "185           0.106442       1  \n",
       "186           0.280454       1  "
      ]
     },
     "execution_count": 53,
     "metadata": {},
     "output_type": "execute_result"
    }
   ],
   "source": [
    "check2= df_norm2[df_norm2['labels'] == 1]\n",
    "check2.head()"
   ]
  },
  {
   "cell_type": "code",
   "execution_count": 54,
   "id": "6e313198",
   "metadata": {},
   "outputs": [
    {
     "data": {
      "text/html": [
       "<div>\n",
       "<style scoped>\n",
       "    .dataframe tbody tr th:only-of-type {\n",
       "        vertical-align: middle;\n",
       "    }\n",
       "\n",
       "    .dataframe tbody tr th {\n",
       "        vertical-align: top;\n",
       "    }\n",
       "\n",
       "    .dataframe thead th {\n",
       "        text-align: right;\n",
       "    }\n",
       "</style>\n",
       "<table border=\"1\" class=\"dataframe\">\n",
       "  <thead>\n",
       "    <tr style=\"text-align: right;\">\n",
       "      <th></th>\n",
       "      <th>Country Name</th>\n",
       "      <th>Year</th>\n",
       "      <th>gdp_per_capita</th>\n",
       "      <th>mortality_per_1000</th>\n",
       "      <th>co2_per_capita</th>\n",
       "      <th>arable_per_capita</th>\n",
       "      <th>labels</th>\n",
       "    </tr>\n",
       "  </thead>\n",
       "  <tbody>\n",
       "    <tr>\n",
       "      <th>193</th>\n",
       "      <td>Iraq</td>\n",
       "      <td>1990</td>\n",
       "      <td>0.259707</td>\n",
       "      <td>0.146447</td>\n",
       "      <td>0.122872</td>\n",
       "      <td>0.150758</td>\n",
       "      <td>2</td>\n",
       "    </tr>\n",
       "    <tr>\n",
       "      <th>194</th>\n",
       "      <td>Kuwait</td>\n",
       "      <td>1990</td>\n",
       "      <td>0.220168</td>\n",
       "      <td>0.034750</td>\n",
       "      <td>0.460723</td>\n",
       "      <td>0.000831</td>\n",
       "      <td>2</td>\n",
       "    </tr>\n",
       "    <tr>\n",
       "      <th>195</th>\n",
       "      <td>Bahamas, The</td>\n",
       "      <td>1990</td>\n",
       "      <td>0.310307</td>\n",
       "      <td>0.053366</td>\n",
       "      <td>0.229280</td>\n",
       "      <td>0.016245</td>\n",
       "      <td>2</td>\n",
       "    </tr>\n",
       "    <tr>\n",
       "      <th>196</th>\n",
       "      <td>Hungary</td>\n",
       "      <td>1990</td>\n",
       "      <td>0.248276</td>\n",
       "      <td>0.033819</td>\n",
       "      <td>0.214493</td>\n",
       "      <td>0.255995</td>\n",
       "      <td>2</td>\n",
       "    </tr>\n",
       "    <tr>\n",
       "      <th>197</th>\n",
       "      <td>Bahrain</td>\n",
       "      <td>1990</td>\n",
       "      <td>0.213447</td>\n",
       "      <td>0.051815</td>\n",
       "      <td>0.714754</td>\n",
       "      <td>0.001948</td>\n",
       "      <td>2</td>\n",
       "    </tr>\n",
       "  </tbody>\n",
       "</table>\n",
       "</div>"
      ],
      "text/plain": [
       "     Country Name  Year  gdp_per_capita  mortality_per_1000  co2_per_capita  \\\n",
       "193          Iraq  1990        0.259707            0.146447        0.122872   \n",
       "194        Kuwait  1990        0.220168            0.034750        0.460723   \n",
       "195  Bahamas, The  1990        0.310307            0.053366        0.229280   \n",
       "196       Hungary  1990        0.248276            0.033819        0.214493   \n",
       "197       Bahrain  1990        0.213447            0.051815        0.714754   \n",
       "\n",
       "     arable_per_capita  labels  \n",
       "193           0.150758       2  \n",
       "194           0.000831       2  \n",
       "195           0.016245       2  \n",
       "196           0.255995       2  \n",
       "197           0.001948       2  "
      ]
     },
     "execution_count": 54,
     "metadata": {},
     "output_type": "execute_result"
    }
   ],
   "source": [
    "check3= df_norm2[df_norm2['labels'] == 2]\n",
    "check3.head()"
   ]
  },
  {
   "cell_type": "code",
   "execution_count": 55,
   "id": "c8e3e002",
   "metadata": {},
   "outputs": [
    {
     "data": {
      "text/html": [
       "<div>\n",
       "<style scoped>\n",
       "    .dataframe tbody tr th:only-of-type {\n",
       "        vertical-align: middle;\n",
       "    }\n",
       "\n",
       "    .dataframe tbody tr th {\n",
       "        vertical-align: top;\n",
       "    }\n",
       "\n",
       "    .dataframe thead th {\n",
       "        text-align: right;\n",
       "    }\n",
       "</style>\n",
       "<table border=\"1\" class=\"dataframe\">\n",
       "  <thead>\n",
       "    <tr style=\"text-align: right;\">\n",
       "      <th></th>\n",
       "      <th>Country Name</th>\n",
       "      <th>Year</th>\n",
       "      <th>gdp_per_capita</th>\n",
       "      <th>mortality_per_1000</th>\n",
       "      <th>co2_per_capita</th>\n",
       "      <th>arable_per_capita</th>\n",
       "      <th>labels</th>\n",
       "    </tr>\n",
       "  </thead>\n",
       "  <tbody>\n",
       "    <tr>\n",
       "      <th>216</th>\n",
       "      <td>Netherlands</td>\n",
       "      <td>1990</td>\n",
       "      <td>0.536428</td>\n",
       "      <td>0.006205</td>\n",
       "      <td>0.327471</td>\n",
       "      <td>0.030740</td>\n",
       "      <td>3</td>\n",
       "    </tr>\n",
       "    <tr>\n",
       "      <th>217</th>\n",
       "      <td>Italy</td>\n",
       "      <td>1990</td>\n",
       "      <td>0.524657</td>\n",
       "      <td>0.010549</td>\n",
       "      <td>0.235816</td>\n",
       "      <td>0.083373</td>\n",
       "      <td>3</td>\n",
       "    </tr>\n",
       "    <tr>\n",
       "      <th>218</th>\n",
       "      <td>Israel</td>\n",
       "      <td>1990</td>\n",
       "      <td>0.524310</td>\n",
       "      <td>0.016444</td>\n",
       "      <td>0.239387</td>\n",
       "      <td>0.038530</td>\n",
       "      <td>3</td>\n",
       "    </tr>\n",
       "    <tr>\n",
       "      <th>219</th>\n",
       "      <td>Euro area</td>\n",
       "      <td>1990</td>\n",
       "      <td>0.475742</td>\n",
       "      <td>0.010172</td>\n",
       "      <td>0.278112</td>\n",
       "      <td>0.116931</td>\n",
       "      <td>3</td>\n",
       "    </tr>\n",
       "    <tr>\n",
       "      <th>220</th>\n",
       "      <td>Andorra</td>\n",
       "      <td>1990</td>\n",
       "      <td>0.475384</td>\n",
       "      <td>0.020788</td>\n",
       "      <td>0.248253</td>\n",
       "      <td>0.009474</td>\n",
       "      <td>3</td>\n",
       "    </tr>\n",
       "    <tr>\n",
       "      <th>221</th>\n",
       "      <td>Slovenia</td>\n",
       "      <td>1990</td>\n",
       "      <td>0.479843</td>\n",
       "      <td>0.012721</td>\n",
       "      <td>0.223479</td>\n",
       "      <td>0.047240</td>\n",
       "      <td>3</td>\n",
       "    </tr>\n",
       "    <tr>\n",
       "      <th>222</th>\n",
       "      <td>OECD members</td>\n",
       "      <td>1990</td>\n",
       "      <td>0.427277</td>\n",
       "      <td>0.048620</td>\n",
       "      <td>0.337887</td>\n",
       "      <td>0.196790</td>\n",
       "      <td>3</td>\n",
       "    </tr>\n",
       "    <tr>\n",
       "      <th>223</th>\n",
       "      <td>European Union</td>\n",
       "      <td>1990</td>\n",
       "      <td>0.388731</td>\n",
       "      <td>0.018469</td>\n",
       "      <td>0.279641</td>\n",
       "      <td>0.140124</td>\n",
       "      <td>3</td>\n",
       "    </tr>\n",
       "    <tr>\n",
       "      <th>224</th>\n",
       "      <td>High income</td>\n",
       "      <td>1990</td>\n",
       "      <td>0.475978</td>\n",
       "      <td>0.020788</td>\n",
       "      <td>0.377621</td>\n",
       "      <td>0.195360</td>\n",
       "      <td>3</td>\n",
       "    </tr>\n",
       "    <tr>\n",
       "      <th>225</th>\n",
       "      <td>Australia</td>\n",
       "      <td>1990</td>\n",
       "      <td>0.459303</td>\n",
       "      <td>0.008998</td>\n",
       "      <td>0.509808</td>\n",
       "      <td>0.522282</td>\n",
       "      <td>3</td>\n",
       "    </tr>\n",
       "  </tbody>\n",
       "</table>\n",
       "</div>"
      ],
      "text/plain": [
       "       Country Name  Year  gdp_per_capita  mortality_per_1000  co2_per_capita  \\\n",
       "216     Netherlands  1990        0.536428            0.006205        0.327471   \n",
       "217           Italy  1990        0.524657            0.010549        0.235816   \n",
       "218          Israel  1990        0.524310            0.016444        0.239387   \n",
       "219       Euro area  1990        0.475742            0.010172        0.278112   \n",
       "220         Andorra  1990        0.475384            0.020788        0.248253   \n",
       "221        Slovenia  1990        0.479843            0.012721        0.223479   \n",
       "222    OECD members  1990        0.427277            0.048620        0.337887   \n",
       "223  European Union  1990        0.388731            0.018469        0.279641   \n",
       "224     High income  1990        0.475978            0.020788        0.377621   \n",
       "225       Australia  1990        0.459303            0.008998        0.509808   \n",
       "\n",
       "     arable_per_capita  labels  \n",
       "216           0.030740       3  \n",
       "217           0.083373       3  \n",
       "218           0.038530       3  \n",
       "219           0.116931       3  \n",
       "220           0.009474       3  \n",
       "221           0.047240       3  \n",
       "222           0.196790       3  \n",
       "223           0.140124       3  \n",
       "224           0.195360       3  \n",
       "225           0.522282       3  "
      ]
     },
     "execution_count": 55,
     "metadata": {},
     "output_type": "execute_result"
    }
   ],
   "source": [
    "check4= df_norm2[df_norm2['labels'] == 3]\n",
    "check4.head(10)"
   ]
  },
  {
   "cell_type": "markdown",
   "id": "fbae7eaa",
   "metadata": {},
   "source": [
    "## Model Fitting for a single Country(i.e India)"
   ]
  },
  {
   "cell_type": "code",
   "execution_count": 56,
   "id": "db98a451",
   "metadata": {},
   "outputs": [],
   "source": [
    "## Taking help from the lecture fucntion for model fitting using the exponential function.\n",
    "def exp_growth(t, scale, growth):\n",
    "    \"\"\" Computes exponential function with scale and growth as free parameters\n",
    "    \"\"\"\n",
    "    \n",
    "    f = scale * np.exp(growth * (t-1950)) \n",
    "    \n",
    "    return f\n",
    "        \n",
    "\n"
   ]
  },
  {
   "cell_type": "code",
   "execution_count": 57,
   "id": "8d3c5a68",
   "metadata": {},
   "outputs": [
    {
     "data": {
      "text/html": [
       "<div>\n",
       "<style scoped>\n",
       "    .dataframe tbody tr th:only-of-type {\n",
       "        vertical-align: middle;\n",
       "    }\n",
       "\n",
       "    .dataframe tbody tr th {\n",
       "        vertical-align: top;\n",
       "    }\n",
       "\n",
       "    .dataframe thead th {\n",
       "        text-align: right;\n",
       "    }\n",
       "</style>\n",
       "<table border=\"1\" class=\"dataframe\">\n",
       "  <thead>\n",
       "    <tr style=\"text-align: right;\">\n",
       "      <th></th>\n",
       "      <th>Country Name</th>\n",
       "      <th>Year</th>\n",
       "      <th>gdp_per_capita</th>\n",
       "    </tr>\n",
       "  </thead>\n",
       "  <tbody>\n",
       "    <tr>\n",
       "      <th>1</th>\n",
       "      <td>Africa Eastern and Southern</td>\n",
       "      <td>1960</td>\n",
       "      <td>147.507808</td>\n",
       "    </tr>\n",
       "    <tr>\n",
       "      <th>2</th>\n",
       "      <td>Afghanistan</td>\n",
       "      <td>1960</td>\n",
       "      <td>59.773234</td>\n",
       "    </tr>\n",
       "    <tr>\n",
       "      <th>3</th>\n",
       "      <td>Africa Western and Central</td>\n",
       "      <td>1960</td>\n",
       "      <td>107.932233</td>\n",
       "    </tr>\n",
       "    <tr>\n",
       "      <th>4</th>\n",
       "      <td>Angola</td>\n",
       "      <td>1960</td>\n",
       "      <td>1926.375416</td>\n",
       "    </tr>\n",
       "    <tr>\n",
       "      <th>5</th>\n",
       "      <td>Albania</td>\n",
       "      <td>1960</td>\n",
       "      <td>2338.374773</td>\n",
       "    </tr>\n",
       "  </tbody>\n",
       "</table>\n",
       "</div>"
      ],
      "text/plain": [
       "                  Country Name  Year  gdp_per_capita\n",
       "1  Africa Eastern and Southern  1960      147.507808\n",
       "2                  Afghanistan  1960       59.773234\n",
       "3   Africa Western and Central  1960      107.932233\n",
       "4                       Angola  1960     1926.375416\n",
       "5                      Albania  1960     2338.374773"
      ]
     },
     "execution_count": 57,
     "metadata": {},
     "output_type": "execute_result"
    }
   ],
   "source": [
    "## Taking only the gdp per capita column for model fitting:\n",
    "\n",
    "data= data[['Country Name','Year' , 'gdp_per_capita']]\n",
    "data.head()"
   ]
  },
  {
   "cell_type": "code",
   "execution_count": 58,
   "id": "16e75f18",
   "metadata": {},
   "outputs": [
    {
     "data": {
      "text/html": [
       "<div>\n",
       "<style scoped>\n",
       "    .dataframe tbody tr th:only-of-type {\n",
       "        vertical-align: middle;\n",
       "    }\n",
       "\n",
       "    .dataframe tbody tr th {\n",
       "        vertical-align: top;\n",
       "    }\n",
       "\n",
       "    .dataframe thead th {\n",
       "        text-align: right;\n",
       "    }\n",
       "</style>\n",
       "<table border=\"1\" class=\"dataframe\">\n",
       "  <thead>\n",
       "    <tr style=\"text-align: right;\">\n",
       "      <th></th>\n",
       "      <th>Country Name</th>\n",
       "      <th>Year</th>\n",
       "      <th>gdp_per_capita</th>\n",
       "    </tr>\n",
       "  </thead>\n",
       "  <tbody>\n",
       "    <tr>\n",
       "      <th>3567</th>\n",
       "      <td>India</td>\n",
       "      <td>1973</td>\n",
       "      <td>143.778688</td>\n",
       "    </tr>\n",
       "    <tr>\n",
       "      <th>907</th>\n",
       "      <td>India</td>\n",
       "      <td>1963</td>\n",
       "      <td>101.126429</td>\n",
       "    </tr>\n",
       "    <tr>\n",
       "      <th>2503</th>\n",
       "      <td>India</td>\n",
       "      <td>1969</td>\n",
       "      <td>107.622318</td>\n",
       "    </tr>\n",
       "    <tr>\n",
       "      <th>4365</th>\n",
       "      <td>India</td>\n",
       "      <td>1976</td>\n",
       "      <td>161.092092</td>\n",
       "    </tr>\n",
       "    <tr>\n",
       "      <th>1705</th>\n",
       "      <td>India</td>\n",
       "      <td>1966</td>\n",
       "      <td>89.997304</td>\n",
       "    </tr>\n",
       "  </tbody>\n",
       "</table>\n",
       "</div>"
      ],
      "text/plain": [
       "     Country Name  Year  gdp_per_capita\n",
       "3567        India  1973      143.778688\n",
       "907         India  1963      101.126429\n",
       "2503        India  1969      107.622318\n",
       "4365        India  1976      161.092092\n",
       "1705        India  1966       89.997304"
      ]
     },
     "execution_count": 58,
     "metadata": {},
     "output_type": "execute_result"
    }
   ],
   "source": [
    "## Taking the values less than the year 1990 for model fitting.\n",
    "\n",
    "india= data[(data['Country Name']== 'India') & (data['Year']<= 1990) ]\n",
    "india.sample(5)"
   ]
  },
  {
   "cell_type": "code",
   "execution_count": 59,
   "id": "71f1b4b7",
   "metadata": {},
   "outputs": [
    {
     "name": "stderr",
     "output_type": "stream",
     "text": [
      "<ipython-input-59-2626e2423d96>:2: SettingWithCopyWarning: \n",
      "A value is trying to be set on a copy of a slice from a DataFrame.\n",
      "Try using .loc[row_indexer,col_indexer] = value instead\n",
      "\n",
      "See the caveats in the documentation: https://pandas.pydata.org/pandas-docs/stable/user_guide/indexing.html#returning-a-view-versus-a-copy\n",
      "  india[\"gdp_error\"] = np.sqrt(india[\"gdp_per_capita\"])\n",
      "<ipython-input-59-2626e2423d96>:10: SettingWithCopyWarning: \n",
      "A value is trying to be set on a copy of a slice from a DataFrame.\n",
      "Try using .loc[row_indexer,col_indexer] = value instead\n",
      "\n",
      "See the caveats in the documentation: https://pandas.pydata.org/pandas-docs/stable/user_guide/indexing.html#returning-a-view-versus-a-copy\n",
      "  india[\"gdp_exp\"] = exp_growth(india[\"Year\"], *popt)\n"
     ]
    },
    {
     "name": "stdout",
     "output_type": "stream",
     "text": [
      "Fit parameter [42.00531131  0.05575656]\n"
     ]
    },
    {
     "data": {
      "image/png": "[encoded data removed]",
      "text/plain": [
       "<Figure size 432x288 with 1 Axes>"
      ]
     },
     "metadata": {
      "needs_background": "light"
     },
     "output_type": "display_data"
    }
   ],
   "source": [
    "# calculate the error as square root of the population numbers\n",
    "india[\"gdp_error\"] = np.sqrt(india[\"gdp_per_capita\"])\n",
    "\n",
    "# fit exponential growth\n",
    "popt, pcorr = opt.curve_fit(exp_growth, india[\"Year\"], india[\"gdp_per_capita\"],\n",
    "                            sigma=india[\"gdp_error\"], absolute_sigma=True)\n",
    "\n",
    "# that did not work\n",
    "print(\"Fit parameter\", popt)\n",
    "india[\"gdp_exp\"] = exp_growth(india[\"Year\"], *popt)\n",
    "plt.figure()\n",
    "plt.plot(india[\"Year\"], india[\"gdp_per_capita\"], label=\"data\")\n",
    "plt.plot(india[\"Year\"], india[\"gdp_exp\"], label=\"fit\")\n",
    "\n",
    "plt.legend()\n",
    "plt.title(\"first fit attempt\")\n",
    "plt.show()\n"
   ]
  },
  {
   "cell_type": "code",
   "execution_count": 60,
   "id": "49ee8097",
   "metadata": {},
   "outputs": [
    {
     "name": "stderr",
     "output_type": "stream",
     "text": [
      "<ipython-input-60-a640c4b35e72>:2: SettingWithCopyWarning: \n",
      "A value is trying to be set on a copy of a slice from a DataFrame.\n",
      "Try using .loc[row_indexer,col_indexer] = value instead\n",
      "\n",
      "See the caveats in the documentation: https://pandas.pydata.org/pandas-docs/stable/user_guide/indexing.html#returning-a-view-versus-a-copy\n",
      "  india[\"gdp_exp\"] = exp_growth(india[\"Year\"], *popt)\n"
     ]
    },
    {
     "data": {
      "image/png": "[encoded data removed]",
      "text/plain": [
       "<Figure size 432x288 with 1 Axes>"
      ]
     },
     "metadata": {
      "needs_background": "light"
     },
     "output_type": "display_data"
    },
    {
     "name": "stdout",
     "output_type": "stream",
     "text": [
      "GDP Per Capita in\n",
      "2000: 702.9937923115684\n",
      "2010: 1280.938205528729\n",
      "2020: 2334.0215864323804\n"
     ]
    }
   ],
   "source": [
    "popt = [35, 0.06]\n",
    "india[\"gdp_exp\"] = exp_growth(india[\"Year\"], *popt)\n",
    "plt.figure()\n",
    "plt.plot(india[\"Year\"], india[\"gdp_per_capita\"], label=\"data\")\n",
    "plt.plot(india[\"Year\"], india[\"gdp_exp\"], label=\"fit\")\n",
    "plt.legend()\n",
    "plt.title(\"Model fitting for India till 1990\")\n",
    "plt.show()\n",
    "\n",
    "print(\"GDP Per Capita in\")\n",
    "print(\"2000:\", exp_growth(2000, *popt)  )\n",
    "print(\"2010:\", exp_growth(2010, *popt)  )\n",
    "print(\"2020:\", exp_growth(2020, *popt)  )\n",
    "\n"
   ]
  },
  {
   "cell_type": "markdown",
   "id": "aa64fd1b",
   "metadata": {},
   "source": [
    "## Now let's check if our model is giving correct predictions of the future."
   ]
  },
  {
   "cell_type": "code",
   "execution_count": 61,
   "id": "31b321a4",
   "metadata": {},
   "outputs": [
    {
     "data": {
      "text/html": [
       "<div>\n",
       "<style scoped>\n",
       "    .dataframe tbody tr th:only-of-type {\n",
       "        vertical-align: middle;\n",
       "    }\n",
       "\n",
       "    .dataframe tbody tr th {\n",
       "        vertical-align: top;\n",
       "    }\n",
       "\n",
       "    .dataframe thead th {\n",
       "        text-align: right;\n",
       "    }\n",
       "</style>\n",
       "<table border=\"1\" class=\"dataframe\">\n",
       "  <thead>\n",
       "    <tr style=\"text-align: right;\">\n",
       "      <th></th>\n",
       "      <th>Country Name</th>\n",
       "      <th>Year</th>\n",
       "      <th>gdp_per_capita</th>\n",
       "    </tr>\n",
       "  </thead>\n",
       "  <tbody>\n",
       "    <tr>\n",
       "      <th>10749</th>\n",
       "      <td>India</td>\n",
       "      <td>2000</td>\n",
       "      <td>443.314194</td>\n",
       "    </tr>\n",
       "  </tbody>\n",
       "</table>\n",
       "</div>"
      ],
      "text/plain": [
       "      Country Name  Year  gdp_per_capita\n",
       "10749        India  2000      443.314194"
      ]
     },
     "execution_count": 61,
     "metadata": {},
     "output_type": "execute_result"
    }
   ],
   "source": [
    "## Checking values of the year 2000\n",
    "india_check= data[(data['Country Name']== 'India') & (data['Year']== 2000) ]\n",
    "india_check.head()"
   ]
  },
  {
   "cell_type": "code",
   "execution_count": 62,
   "id": "f8b15c87",
   "metadata": {},
   "outputs": [
    {
     "data": {
      "text/html": [
       "<div>\n",
       "<style scoped>\n",
       "    .dataframe tbody tr th:only-of-type {\n",
       "        vertical-align: middle;\n",
       "    }\n",
       "\n",
       "    .dataframe tbody tr th {\n",
       "        vertical-align: top;\n",
       "    }\n",
       "\n",
       "    .dataframe thead th {\n",
       "        text-align: right;\n",
       "    }\n",
       "</style>\n",
       "<table border=\"1\" class=\"dataframe\">\n",
       "  <thead>\n",
       "    <tr style=\"text-align: right;\">\n",
       "      <th></th>\n",
       "      <th>Country Name</th>\n",
       "      <th>Year</th>\n",
       "      <th>gdp_per_capita</th>\n",
       "    </tr>\n",
       "  </thead>\n",
       "  <tbody>\n",
       "    <tr>\n",
       "      <th>13409</th>\n",
       "      <td>India</td>\n",
       "      <td>2010</td>\n",
       "      <td>1357.563727</td>\n",
       "    </tr>\n",
       "  </tbody>\n",
       "</table>\n",
       "</div>"
      ],
      "text/plain": [
       "      Country Name  Year  gdp_per_capita\n",
       "13409        India  2010     1357.563727"
      ]
     },
     "execution_count": 62,
     "metadata": {},
     "output_type": "execute_result"
    }
   ],
   "source": [
    "india_check= data[(data['Country Name']== 'India') & (data['Year']== 2010) ]\n",
    "india_check.head()"
   ]
  },
  {
   "cell_type": "code",
   "execution_count": 63,
   "id": "098baa52",
   "metadata": {},
   "outputs": [
    {
     "data": {
      "text/html": [
       "<div>\n",
       "<style scoped>\n",
       "    .dataframe tbody tr th:only-of-type {\n",
       "        vertical-align: middle;\n",
       "    }\n",
       "\n",
       "    .dataframe tbody tr th {\n",
       "        vertical-align: top;\n",
       "    }\n",
       "\n",
       "    .dataframe thead th {\n",
       "        text-align: right;\n",
       "    }\n",
       "</style>\n",
       "<table border=\"1\" class=\"dataframe\">\n",
       "  <thead>\n",
       "    <tr style=\"text-align: right;\">\n",
       "      <th></th>\n",
       "      <th>Country Name</th>\n",
       "      <th>Year</th>\n",
       "      <th>gdp_per_capita</th>\n",
       "    </tr>\n",
       "  </thead>\n",
       "  <tbody>\n",
       "    <tr>\n",
       "      <th>16069</th>\n",
       "      <td>India</td>\n",
       "      <td>2020</td>\n",
       "      <td>1927.707823</td>\n",
       "    </tr>\n",
       "  </tbody>\n",
       "</table>\n",
       "</div>"
      ],
      "text/plain": [
       "      Country Name  Year  gdp_per_capita\n",
       "16069        India  2020     1927.707823"
      ]
     },
     "execution_count": 63,
     "metadata": {},
     "output_type": "execute_result"
    }
   ],
   "source": [
    "india_check= data[(data['Country Name']== 'India') & (data['Year']== 2020) ]\n",
    "india_check.head()"
   ]
  },
  {
   "cell_type": "markdown",
   "id": "08ac41de",
   "metadata": {},
   "source": [
    "### As we can see, our model is giving really good results, close to the values in the dataframe"
   ]
  },
  {
   "cell_type": "markdown",
   "id": "3161f42f",
   "metadata": {},
   "source": [
    "## Now taking some countries from the Cluster Label 1 of the year 2020 and doing some comparisons"
   ]
  },
  {
   "cell_type": "code",
   "execution_count": 64,
   "id": "bc749cd9",
   "metadata": {},
   "outputs": [
    {
     "data": {
      "text/html": [
       "<div>\n",
       "<style scoped>\n",
       "    .dataframe tbody tr th:only-of-type {\n",
       "        vertical-align: middle;\n",
       "    }\n",
       "\n",
       "    .dataframe tbody tr th {\n",
       "        vertical-align: top;\n",
       "    }\n",
       "\n",
       "    .dataframe thead th {\n",
       "        text-align: right;\n",
       "    }\n",
       "</style>\n",
       "<table border=\"1\" class=\"dataframe\">\n",
       "  <thead>\n",
       "    <tr style=\"text-align: right;\">\n",
       "      <th></th>\n",
       "      <th>Country Name</th>\n",
       "      <th>Year</th>\n",
       "      <th>gdp_per_capita</th>\n",
       "      <th>mortality_per_1000</th>\n",
       "      <th>co2_per_capita</th>\n",
       "      <th>arable_per_capita</th>\n",
       "      <th>labels</th>\n",
       "    </tr>\n",
       "  </thead>\n",
       "  <tbody>\n",
       "    <tr>\n",
       "      <th>191</th>\n",
       "      <td>North America</td>\n",
       "      <td>2020</td>\n",
       "      <td>0.527728</td>\n",
       "      <td>0.010099</td>\n",
       "      <td>0.405964</td>\n",
       "      <td>0.419151</td>\n",
       "      <td>1</td>\n",
       "    </tr>\n",
       "    <tr>\n",
       "      <th>192</th>\n",
       "      <td>Israel</td>\n",
       "      <td>2020</td>\n",
       "      <td>0.379440</td>\n",
       "      <td>0.039800</td>\n",
       "      <td>0.149358</td>\n",
       "      <td>0.038950</td>\n",
       "      <td>1</td>\n",
       "    </tr>\n",
       "    <tr>\n",
       "      <th>193</th>\n",
       "      <td>Japan</td>\n",
       "      <td>2020</td>\n",
       "      <td>0.345101</td>\n",
       "      <td>0.018763</td>\n",
       "      <td>0.172693</td>\n",
       "      <td>0.021109</td>\n",
       "      <td>1</td>\n",
       "    </tr>\n",
       "    <tr>\n",
       "      <th>194</th>\n",
       "      <td>Singapore</td>\n",
       "      <td>2020</td>\n",
       "      <td>0.514433</td>\n",
       "      <td>0.030676</td>\n",
       "      <td>0.193298</td>\n",
       "      <td>0.000000</td>\n",
       "      <td>1</td>\n",
       "    </tr>\n",
       "    <tr>\n",
       "      <th>195</th>\n",
       "      <td>Netherlands</td>\n",
       "      <td>2020</td>\n",
       "      <td>0.450510</td>\n",
       "      <td>0.016940</td>\n",
       "      <td>0.219244</td>\n",
       "      <td>0.031944</td>\n",
       "      <td>1</td>\n",
       "    </tr>\n",
       "  </tbody>\n",
       "</table>\n",
       "</div>"
      ],
      "text/plain": [
       "      Country Name  Year  gdp_per_capita  mortality_per_1000  co2_per_capita  \\\n",
       "191  North America  2020        0.527728            0.010099        0.405964   \n",
       "192         Israel  2020        0.379440            0.039800        0.149358   \n",
       "193          Japan  2020        0.345101            0.018763        0.172693   \n",
       "194      Singapore  2020        0.514433            0.030676        0.193298   \n",
       "195    Netherlands  2020        0.450510            0.016940        0.219244   \n",
       "\n",
       "     arable_per_capita  labels  \n",
       "191           0.419151       1  \n",
       "192           0.038950       1  \n",
       "193           0.021109       1  \n",
       "194           0.000000       1  \n",
       "195           0.031944       1  "
      ]
     },
     "execution_count": 64,
     "metadata": {},
     "output_type": "execute_result"
    }
   ],
   "source": [
    "data= df_norm[df_norm['labels'] == 1]\n",
    "data.head()"
   ]
  },
  {
   "cell_type": "code",
   "execution_count": 65,
   "id": "4a22b717",
   "metadata": {},
   "outputs": [],
   "source": [
    "##Removing unncessary rows which are not the column names\n",
    "\n",
    "list= ['OECD members', 'High income', 'Post-demographic dividend', 'Euro area', 'North America']\n",
    "data = data[~data['Country Name'].isin(list)]"
   ]
  },
  {
   "cell_type": "code",
   "execution_count": 66,
   "id": "e7aff4f3",
   "metadata": {},
   "outputs": [
    {
     "name": "stderr",
     "output_type": "stream",
     "text": [
      "<ipython-input-66-21ad588ada7c>:10: UserWarning: FixedFormatter should only be used together with FixedLocator\n",
      "  ax[0].set_xticklabels(data['Country Name'], rotation=90)\n",
      "<ipython-input-66-21ad588ada7c>:18: UserWarning: FixedFormatter should only be used together with FixedLocator\n",
      "  ax[1].set_xticklabels(data['Country Name'], rotation=90)\n"
     ]
    },
    {
     "data": {
      "image/png": "[encoded data removed]",
      "text/plain": [
       "<Figure size 1224x360 with 2 Axes>"
      ]
     },
     "metadata": {
      "needs_background": "light"
     },
     "output_type": "display_data"
    }
   ],
   "source": [
    "fig, ax = plt.subplots(1,2, figsize=(17,5))  #Setting the size of subplots\n",
    "\n",
    "\n",
    "ax[0].bar(data['Country Name'], data['gdp_per_capita'], color='b', label='Gdp')\n",
    "\n",
    "\n",
    "ax[0].set_title(\"Country-wise GDP Per Capita in 2000 \")\n",
    "ax[0].set_xlabel(\"Country Name  \")\n",
    "ax[0].set_ylabel(\"GDP Per Capita  \")\n",
    "ax[0].set_xticklabels(data['Country Name'], rotation=90)\n",
    "\n",
    "ax[1].bar(data['Country Name'], data['arable_per_capita'], color='g', label='mortality')\n",
    "\n",
    "\n",
    "ax[1].set_title(\"Country-wise Arable Per Capita in 2000 \")\n",
    "ax[1].set_xlabel(\"Country Name  \")\n",
    "ax[1].set_ylabel(\"Arable Per Capita   \")\n",
    "ax[1].set_xticklabels(data['Country Name'], rotation=90)\n",
    "\n",
    "plt.show()"
   ]
  },
  {
   "cell_type": "code",
   "execution_count": 67,
   "id": "934944ac",
   "metadata": {
    "scrolled": false
   },
   "outputs": [
    {
     "name": "stderr",
     "output_type": "stream",
     "text": [
      "<ipython-input-67-cafd227fd87c>:10: UserWarning: FixedFormatter should only be used together with FixedLocator\n",
      "  ax[0].set_xticklabels(data['Country Name'], rotation=90)\n",
      "<ipython-input-67-cafd227fd87c>:19: UserWarning: FixedFormatter should only be used together with FixedLocator\n",
      "  ax[1].set_xticklabels(data['Country Name'], rotation=90)\n"
     ]
    },
    {
     "data": {
      "image/png": "[encoded data removed]",
      "text/plain": [
       "<Figure size 1224x360 with 2 Axes>"
      ]
     },
     "metadata": {
      "needs_background": "light"
     },
     "output_type": "display_data"
    }
   ],
   "source": [
    "fig, ax = plt.subplots(1,2, figsize=(17,5))  #Setting the size of subplots\n",
    "\n",
    "\n",
    "ax[0].bar(data['Country Name'], data['co2_per_capita'], color='r', label='co2')\n",
    "\n",
    "\n",
    "ax[0].set_title(\"Country-wise CO2 Per Capita in 2000 \")\n",
    "ax[0].set_xlabel(\"Country Name  \")\n",
    "ax[0].set_ylabel(\"CO2 Per Capita  \")\n",
    "ax[0].set_xticklabels(data['Country Name'], rotation=90)\n",
    "\n",
    "\n",
    "ax[1].bar(data['Country Name'], data['mortality_per_1000'], color='y', label='mortality')\n",
    "\n",
    "\n",
    "ax[1].set_title(\"Country-wise Mortality Rate in 2000 \")\n",
    "ax[1].set_xlabel(\"Country Name  \")\n",
    "ax[1].set_ylabel(\"Mortality Rate   \")\n",
    "ax[1].set_xticklabels(data['Country Name'], rotation=90)\n",
    "\n",
    "\n",
    "plt.show()"
   ]
  },
  {
   "cell_type": "code",
   "execution_count": 68,
   "id": "6add928b",
   "metadata": {},
   "outputs": [
    {
     "data": {
      "text/html": [
       "<div>\n",
       "<style scoped>\n",
       "    .dataframe tbody tr th:only-of-type {\n",
       "        vertical-align: middle;\n",
       "    }\n",
       "\n",
       "    .dataframe tbody tr th {\n",
       "        vertical-align: top;\n",
       "    }\n",
       "\n",
       "    .dataframe thead th {\n",
       "        text-align: right;\n",
       "    }\n",
       "</style>\n",
       "<table border=\"1\" class=\"dataframe\">\n",
       "  <thead>\n",
       "    <tr style=\"text-align: right;\">\n",
       "      <th></th>\n",
       "      <th>Year</th>\n",
       "      <th>gdp_per_capita</th>\n",
       "      <th>mortality_per_1000</th>\n",
       "      <th>co2_per_capita</th>\n",
       "      <th>arable_per_capita</th>\n",
       "      <th>labels</th>\n",
       "    </tr>\n",
       "  </thead>\n",
       "  <tbody>\n",
       "    <tr>\n",
       "      <th>Year</th>\n",
       "      <td>NaN</td>\n",
       "      <td>NaN</td>\n",
       "      <td>NaN</td>\n",
       "      <td>NaN</td>\n",
       "      <td>NaN</td>\n",
       "      <td>NaN</td>\n",
       "    </tr>\n",
       "    <tr>\n",
       "      <th>gdp_per_capita</th>\n",
       "      <td>NaN</td>\n",
       "      <td>1.000000</td>\n",
       "      <td>-0.134884</td>\n",
       "      <td>0.079062</td>\n",
       "      <td>0.029826</td>\n",
       "      <td>NaN</td>\n",
       "    </tr>\n",
       "    <tr>\n",
       "      <th>mortality_per_1000</th>\n",
       "      <td>NaN</td>\n",
       "      <td>-0.134884</td>\n",
       "      <td>1.000000</td>\n",
       "      <td>0.795080</td>\n",
       "      <td>-0.159027</td>\n",
       "      <td>NaN</td>\n",
       "    </tr>\n",
       "    <tr>\n",
       "      <th>co2_per_capita</th>\n",
       "      <td>NaN</td>\n",
       "      <td>0.079062</td>\n",
       "      <td>0.795080</td>\n",
       "      <td>1.000000</td>\n",
       "      <td>0.039134</td>\n",
       "      <td>NaN</td>\n",
       "    </tr>\n",
       "    <tr>\n",
       "      <th>arable_per_capita</th>\n",
       "      <td>NaN</td>\n",
       "      <td>0.029826</td>\n",
       "      <td>-0.159027</td>\n",
       "      <td>0.039134</td>\n",
       "      <td>1.000000</td>\n",
       "      <td>NaN</td>\n",
       "    </tr>\n",
       "    <tr>\n",
       "      <th>labels</th>\n",
       "      <td>NaN</td>\n",
       "      <td>NaN</td>\n",
       "      <td>NaN</td>\n",
       "      <td>NaN</td>\n",
       "      <td>NaN</td>\n",
       "      <td>NaN</td>\n",
       "    </tr>\n",
       "  </tbody>\n",
       "</table>\n",
       "</div>"
      ],
      "text/plain": [
       "                    Year  gdp_per_capita  mortality_per_1000  co2_per_capita  \\\n",
       "Year                 NaN             NaN                 NaN             NaN   \n",
       "gdp_per_capita       NaN        1.000000           -0.134884        0.079062   \n",
       "mortality_per_1000   NaN       -0.134884            1.000000        0.795080   \n",
       "co2_per_capita       NaN        0.079062            0.795080        1.000000   \n",
       "arable_per_capita    NaN        0.029826           -0.159027        0.039134   \n",
       "labels               NaN             NaN                 NaN             NaN   \n",
       "\n",
       "                    arable_per_capita  labels  \n",
       "Year                              NaN     NaN  \n",
       "gdp_per_capita               0.029826     NaN  \n",
       "mortality_per_1000          -0.159027     NaN  \n",
       "co2_per_capita               0.039134     NaN  \n",
       "arable_per_capita            1.000000     NaN  \n",
       "labels                            NaN     NaN  "
      ]
     },
     "execution_count": 68,
     "metadata": {},
     "output_type": "execute_result"
    }
   ],
   "source": [
    "data.corr()"
   ]
  },
  {
   "cell_type": "code",
   "execution_count": null,
   "id": "db83d291",
   "metadata": {},
   "outputs": [],
   "source": []
  }
 ],
 "metadata": {
  "kernelspec": {
   "display_name": "Python 3",
   "language": "python",
   "name": "python3"
  },
  "language_info": {
   "codemirror_mode": {
    "name": "ipython",
    "version": 3
   },
   "file_extension": ".py",
   "mimetype": "text/x-python",
   "name": "python",
   "nbconvert_exporter": "python",
   "pygments_lexer": "ipython3",
   "version": "3.8.8"
  }
 },
 "nbformat": 4,
 "nbformat_minor": 5
}
